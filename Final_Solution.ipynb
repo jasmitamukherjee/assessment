{
 "cells": [
  {
   "cell_type": "markdown",
   "id": "0d8492c8-7aa2-4ee2-9897-dd3695f155d5",
   "metadata": {},
   "source": [
    "# Exploratory Data Analysis"
   ]
  },
  {
   "cell_type": "code",
   "execution_count": 1,
   "id": "48de135b-8432-44b2-bd4f-44ca73b05e7e",
   "metadata": {},
   "outputs": [],
   "source": [
    "import pandas as pd\n",
    "import numpy as np\n",
    "import seaborn as sns"
   ]
  },
  {
   "cell_type": "code",
   "execution_count": 2,
   "id": "d3d4ebb5-cdc1-4e7a-bc0a-bf2b6e134d01",
   "metadata": {},
   "outputs": [],
   "source": [
    "data = pd.read_csv(\"C:/Users/Jasmita/Downloads/Training.csv\")"
   ]
  },
  {
   "cell_type": "code",
   "execution_count": 3,
   "id": "da3d38ed-c58e-41d3-80cc-b2370bf3fff0",
   "metadata": {},
   "outputs": [
    {
     "data": {
      "text/html": [
       "<div>\n",
       "<style scoped>\n",
       "    .dataframe tbody tr th:only-of-type {\n",
       "        vertical-align: middle;\n",
       "    }\n",
       "\n",
       "    .dataframe tbody tr th {\n",
       "        vertical-align: top;\n",
       "    }\n",
       "\n",
       "    .dataframe thead th {\n",
       "        text-align: right;\n",
       "    }\n",
       "</style>\n",
       "<table border=\"1\" class=\"dataframe\">\n",
       "  <thead>\n",
       "    <tr style=\"text-align: right;\">\n",
       "      <th></th>\n",
       "      <th>ProductType</th>\n",
       "      <th>Manufacturer</th>\n",
       "      <th>Area Code</th>\n",
       "      <th>Sourcing Channel</th>\n",
       "      <th>Product Size</th>\n",
       "      <th>Product Type</th>\n",
       "      <th>Month of Sourcing</th>\n",
       "      <th>Sourcing Cost</th>\n",
       "    </tr>\n",
       "  </thead>\n",
       "  <tbody>\n",
       "    <tr>\n",
       "      <th>0</th>\n",
       "      <td>NTM3</td>\n",
       "      <td>X1</td>\n",
       "      <td>A28</td>\n",
       "      <td>WHOLESALE</td>\n",
       "      <td>Large</td>\n",
       "      <td>Powder</td>\n",
       "      <td>May-21</td>\n",
       "      <td>10.16</td>\n",
       "    </tr>\n",
       "    <tr>\n",
       "      <th>1</th>\n",
       "      <td>NTM2</td>\n",
       "      <td>X1</td>\n",
       "      <td>A9</td>\n",
       "      <td>DIRECT</td>\n",
       "      <td>Large</td>\n",
       "      <td>Powder</td>\n",
       "      <td>Oct-20</td>\n",
       "      <td>134.28</td>\n",
       "    </tr>\n",
       "    <tr>\n",
       "      <th>2</th>\n",
       "      <td>NTM3</td>\n",
       "      <td>X2</td>\n",
       "      <td>A20</td>\n",
       "      <td>DIRECT</td>\n",
       "      <td>Large</td>\n",
       "      <td>Powder</td>\n",
       "      <td>Dec-20</td>\n",
       "      <td>12.46</td>\n",
       "    </tr>\n",
       "    <tr>\n",
       "      <th>3</th>\n",
       "      <td>NTM3</td>\n",
       "      <td>X1</td>\n",
       "      <td>A18</td>\n",
       "      <td>WHOLESALE</td>\n",
       "      <td>Small</td>\n",
       "      <td>Powder</td>\n",
       "      <td>Feb-21</td>\n",
       "      <td>107.22</td>\n",
       "    </tr>\n",
       "    <tr>\n",
       "      <th>4</th>\n",
       "      <td>NTM2</td>\n",
       "      <td>X1</td>\n",
       "      <td>A28</td>\n",
       "      <td>DIRECT</td>\n",
       "      <td>Large</td>\n",
       "      <td>Liquid</td>\n",
       "      <td>Nov-20</td>\n",
       "      <td>197.76</td>\n",
       "    </tr>\n",
       "  </tbody>\n",
       "</table>\n",
       "</div>"
      ],
      "text/plain": [
       "  ProductType Manufacturer Area Code Sourcing Channel Product Size  \\\n",
       "0        NTM3           X1       A28        WHOLESALE        Large   \n",
       "1        NTM2           X1        A9           DIRECT        Large   \n",
       "2        NTM3           X2       A20           DIRECT        Large   \n",
       "3        NTM3           X1       A18        WHOLESALE        Small   \n",
       "4        NTM2           X1       A28           DIRECT        Large   \n",
       "\n",
       "  Product Type Month of Sourcing  Sourcing Cost  \n",
       "0       Powder            May-21          10.16  \n",
       "1       Powder            Oct-20         134.28  \n",
       "2       Powder            Dec-20          12.46  \n",
       "3       Powder            Feb-21         107.22  \n",
       "4       Liquid            Nov-20         197.76  "
      ]
     },
     "execution_count": 3,
     "metadata": {},
     "output_type": "execute_result"
    }
   ],
   "source": [
    "#understanding the data : EDA\n",
    "data.head()"
   ]
  },
  {
   "cell_type": "code",
   "execution_count": 4,
   "id": "f6cb95b1-beec-4abf-8c8c-56c55fc93abc",
   "metadata": {},
   "outputs": [
    {
     "data": {
      "text/html": [
       "<div>\n",
       "<style scoped>\n",
       "    .dataframe tbody tr th:only-of-type {\n",
       "        vertical-align: middle;\n",
       "    }\n",
       "\n",
       "    .dataframe tbody tr th {\n",
       "        vertical-align: top;\n",
       "    }\n",
       "\n",
       "    .dataframe thead th {\n",
       "        text-align: right;\n",
       "    }\n",
       "</style>\n",
       "<table border=\"1\" class=\"dataframe\">\n",
       "  <thead>\n",
       "    <tr style=\"text-align: right;\">\n",
       "      <th></th>\n",
       "      <th>ProductType</th>\n",
       "      <th>Manufacturer</th>\n",
       "      <th>Area Code</th>\n",
       "      <th>Sourcing Channel</th>\n",
       "      <th>Product Size</th>\n",
       "      <th>Product Type</th>\n",
       "      <th>Month of Sourcing</th>\n",
       "      <th>Sourcing Cost</th>\n",
       "    </tr>\n",
       "  </thead>\n",
       "  <tbody>\n",
       "    <tr>\n",
       "      <th>550171</th>\n",
       "      <td>NTM2</td>\n",
       "      <td>X1</td>\n",
       "      <td>A5</td>\n",
       "      <td>DIRECT</td>\n",
       "      <td>Large</td>\n",
       "      <td>Powder</td>\n",
       "      <td>Jul-20</td>\n",
       "      <td>136.47</td>\n",
       "    </tr>\n",
       "    <tr>\n",
       "      <th>550172</th>\n",
       "      <td>NTM3</td>\n",
       "      <td>X1</td>\n",
       "      <td>A14</td>\n",
       "      <td>DIRECT</td>\n",
       "      <td>Large</td>\n",
       "      <td>Liquid</td>\n",
       "      <td>Oct-20</td>\n",
       "      <td>72.56</td>\n",
       "    </tr>\n",
       "    <tr>\n",
       "      <th>550173</th>\n",
       "      <td>NTM2</td>\n",
       "      <td>X1</td>\n",
       "      <td>A5</td>\n",
       "      <td>DIRECT</td>\n",
       "      <td>Small</td>\n",
       "      <td>Powder</td>\n",
       "      <td>Mar-21</td>\n",
       "      <td>147.64</td>\n",
       "    </tr>\n",
       "    <tr>\n",
       "      <th>550174</th>\n",
       "      <td>NTM2</td>\n",
       "      <td>X1</td>\n",
       "      <td>A7</td>\n",
       "      <td>DIRECT</td>\n",
       "      <td>Small</td>\n",
       "      <td>Powder</td>\n",
       "      <td>Feb-21</td>\n",
       "      <td>150.04</td>\n",
       "    </tr>\n",
       "    <tr>\n",
       "      <th>550175</th>\n",
       "      <td>NTM1</td>\n",
       "      <td>X1</td>\n",
       "      <td>A3</td>\n",
       "      <td>DIRECT</td>\n",
       "      <td>Small</td>\n",
       "      <td>Powder</td>\n",
       "      <td>Nov-20</td>\n",
       "      <td>139.42</td>\n",
       "    </tr>\n",
       "  </tbody>\n",
       "</table>\n",
       "</div>"
      ],
      "text/plain": [
       "       ProductType Manufacturer Area Code Sourcing Channel Product Size  \\\n",
       "550171        NTM2           X1        A5           DIRECT        Large   \n",
       "550172        NTM3           X1       A14           DIRECT        Large   \n",
       "550173        NTM2           X1        A5           DIRECT        Small   \n",
       "550174        NTM2           X1        A7           DIRECT        Small   \n",
       "550175        NTM1           X1        A3           DIRECT        Small   \n",
       "\n",
       "       Product Type Month of Sourcing  Sourcing Cost  \n",
       "550171       Powder            Jul-20         136.47  \n",
       "550172       Liquid            Oct-20          72.56  \n",
       "550173       Powder            Mar-21         147.64  \n",
       "550174       Powder            Feb-21         150.04  \n",
       "550175       Powder            Nov-20         139.42  "
      ]
     },
     "execution_count": 4,
     "metadata": {},
     "output_type": "execute_result"
    }
   ],
   "source": [
    "data.tail()"
   ]
  },
  {
   "cell_type": "code",
   "execution_count": 5,
   "id": "950dd8fb-3762-4da4-b0d6-349acf515dbd",
   "metadata": {},
   "outputs": [
    {
     "data": {
      "text/plain": [
       "(550176, 8)"
      ]
     },
     "execution_count": 5,
     "metadata": {},
     "output_type": "execute_result"
    }
   ],
   "source": [
    "data.shape"
   ]
  },
  {
   "cell_type": "code",
   "execution_count": 6,
   "id": "a847ef3d-5ab7-4241-916d-ebead9a3d92c",
   "metadata": {},
   "outputs": [
    {
     "data": {
      "text/html": [
       "<div>\n",
       "<style scoped>\n",
       "    .dataframe tbody tr th:only-of-type {\n",
       "        vertical-align: middle;\n",
       "    }\n",
       "\n",
       "    .dataframe tbody tr th {\n",
       "        vertical-align: top;\n",
       "    }\n",
       "\n",
       "    .dataframe thead th {\n",
       "        text-align: right;\n",
       "    }\n",
       "</style>\n",
       "<table border=\"1\" class=\"dataframe\">\n",
       "  <thead>\n",
       "    <tr style=\"text-align: right;\">\n",
       "      <th></th>\n",
       "      <th>Sourcing Cost</th>\n",
       "    </tr>\n",
       "  </thead>\n",
       "  <tbody>\n",
       "    <tr>\n",
       "      <th>count</th>\n",
       "      <td>550176.000000</td>\n",
       "    </tr>\n",
       "    <tr>\n",
       "      <th>mean</th>\n",
       "      <td>108.817286</td>\n",
       "    </tr>\n",
       "    <tr>\n",
       "      <th>std</th>\n",
       "      <td>104.390093</td>\n",
       "    </tr>\n",
       "    <tr>\n",
       "      <th>min</th>\n",
       "      <td>-196.070000</td>\n",
       "    </tr>\n",
       "    <tr>\n",
       "      <th>25%</th>\n",
       "      <td>57.000000</td>\n",
       "    </tr>\n",
       "    <tr>\n",
       "      <th>50%</th>\n",
       "      <td>132.000000</td>\n",
       "    </tr>\n",
       "    <tr>\n",
       "      <th>75%</th>\n",
       "      <td>146.150000</td>\n",
       "    </tr>\n",
       "    <tr>\n",
       "      <th>max</th>\n",
       "      <td>32632.500000</td>\n",
       "    </tr>\n",
       "  </tbody>\n",
       "</table>\n",
       "</div>"
      ],
      "text/plain": [
       "       Sourcing Cost\n",
       "count  550176.000000\n",
       "mean      108.817286\n",
       "std       104.390093\n",
       "min      -196.070000\n",
       "25%        57.000000\n",
       "50%       132.000000\n",
       "75%       146.150000\n",
       "max     32632.500000"
      ]
     },
     "execution_count": 6,
     "metadata": {},
     "output_type": "execute_result"
    }
   ],
   "source": [
    "data.describe()"
   ]
  },
  {
   "cell_type": "code",
   "execution_count": 7,
   "id": "cbbeaa4e-d8ba-4d49-a9eb-3c3e2d61ce90",
   "metadata": {},
   "outputs": [
    {
     "data": {
      "text/plain": [
       "ProductType             3\n",
       "Manufacturer            3\n",
       "Area Code              45\n",
       "Sourcing Channel        4\n",
       "Product Size            3\n",
       "Product Type            2\n",
       "Month of Sourcing      11\n",
       "Sourcing Cost        4529\n",
       "dtype: int64"
      ]
     },
     "execution_count": 7,
     "metadata": {},
     "output_type": "execute_result"
    }
   ],
   "source": [
    "data.nunique()"
   ]
  },
  {
   "cell_type": "code",
   "execution_count": 8,
   "id": "f09bcf46-9c1f-480d-93d3-0a6e3f16aeab",
   "metadata": {},
   "outputs": [
    {
     "data": {
      "text/plain": [
       "ProductType          0\n",
       "Manufacturer         0\n",
       "Area Code            0\n",
       "Sourcing Channel     0\n",
       "Product Size         0\n",
       "Product Type         0\n",
       "Month of Sourcing    0\n",
       "Sourcing Cost        0\n",
       "dtype: int64"
      ]
     },
     "execution_count": 8,
     "metadata": {},
     "output_type": "execute_result"
    }
   ],
   "source": [
    "data.isnull().sum()\n"
   ]
  },
  {
   "cell_type": "code",
   "execution_count": 10,
   "id": "aebae245-7fb6-4969-b4fb-840e27dd2fc3",
   "metadata": {},
   "outputs": [
    {
     "data": {
      "text/plain": [
       "<seaborn.axisgrid.PairGrid at 0x2097caece90>"
      ]
     },
     "execution_count": 10,
     "metadata": {},
     "output_type": "execute_result"
    },
    {
     "data": {
      "image/png": "[encoded data removed]",
      "text/plain": [
       "<Figure size 250x250 with 2 Axes>"
      ]
     },
     "metadata": {},
     "output_type": "display_data"
    }
   ],
   "source": [
    "#anylysis of relationship\n",
    "sns.pairplot(data)\n"
   ]
  },
  {
   "cell_type": "code",
   "execution_count": 17,
   "id": "cc8898d4-4b4b-431c-97cc-86735f85075c",
   "metadata": {},
   "outputs": [
    {
     "data": {
      "text/plain": [
       "<seaborn.axisgrid.FacetGrid at 0x20922ac8950>"
      ]
     },
     "execution_count": 17,
     "metadata": {},
     "output_type": "execute_result"
    },
    {
     "data": {
      "image/png": "[encoded data removed]",
      "text/plain": [
       "<Figure size 606.986x500 with 1 Axes>"
      ]
     },
     "metadata": {},
     "output_type": "display_data"
    }
   ],
   "source": [
    "sns.relplot(x='Month of Sourcing',y='Sourcing Channel',hue='Sourcing Cost',data=data)"
   ]
  },
  {
   "cell_type": "code",
   "execution_count": 13,
   "id": "400430d4-0cf7-41b4-9f07-584291178340",
   "metadata": {},
   "outputs": [
    {
     "name": "stderr",
     "output_type": "stream",
     "text": [
      "C:\\Users\\Jasmita\\AppData\\Local\\Temp\\ipykernel_13584\\2530515667.py:1: UserWarning: \n",
      "\n",
      "`distplot` is a deprecated function and will be removed in seaborn v0.14.0.\n",
      "\n",
      "Please adapt your code to use either `displot` (a figure-level function with\n",
      "similar flexibility) or `histplot` (an axes-level function for histograms).\n",
      "\n",
      "For a guide to updating your code to use the new functions, please see\n",
      "https://gist.github.com/mwaskom/de44147ed2974457ad6372750bbe5751\n",
      "\n",
      "  sns.distplot(data['Sourcing Cost'])\n"
     ]
    },
    {
     "data": {
      "text/plain": [
       "<Axes: xlabel='Sourcing Cost', ylabel='Density'>"
      ]
     },
     "execution_count": 13,
     "metadata": {},
     "output_type": "execute_result"
    },
    {
     "data": {
      "image/png": "[encoded data removed]",
      "text/plain": [
       "<Figure size 640x480 with 1 Axes>"
      ]
     },
     "metadata": {},
     "output_type": "display_data"
    }
   ],
   "source": [
    "sns.distplot(data['Sourcing Cost'])"
   ]
  },
  {
   "cell_type": "code",
   "execution_count": 14,
   "id": "8ee06789-0662-4217-989a-c8e7c3d1430b",
   "metadata": {},
   "outputs": [
    {
     "data": {
      "text/plain": [
       "<seaborn.axisgrid.FacetGrid at 0x2090e038440>"
      ]
     },
     "execution_count": 14,
     "metadata": {},
     "output_type": "execute_result"
    },
    {
     "data": {
      "image/png": "[encoded data removed]",
      "text/plain": [
       "<Figure size 511.111x500 with 1 Axes>"
      ]
     },
     "metadata": {},
     "output_type": "display_data"
    }
   ],
   "source": [
    "sns.catplot(x='Sourcing Cost',kind='box',data=data)"
   ]
  },
  {
   "cell_type": "markdown",
   "id": "c321a33f-364c-4165-ba70-059d712a60da",
   "metadata": {},
   "source": [
    "# Handling Outliers"
   ]
  },
  {
   "cell_type": "code",
   "execution_count": 15,
   "id": "f00116e1-b82d-41a3-8036-e2aca757dd0b",
   "metadata": {},
   "outputs": [
    {
     "data": {
      "text/plain": [
       "<Axes: ylabel='Sourcing Cost'>"
      ]
     },
     "execution_count": 15,
     "metadata": {},
     "output_type": "execute_result"
    },
    {
     "data": {
      "image/png": "[encoded data removed]",
      "text/plain": [
       "<Figure size 640x480 with 1 Axes>"
      ]
     },
     "metadata": {},
     "output_type": "display_data"
    }
   ],
   "source": [
    "#to see outliers \n",
    "sns.boxplot(data['Sourcing Cost'])"
   ]
  },
  {
   "cell_type": "code",
   "execution_count": 16,
   "id": "9545e329-4cd4-4aab-9587-f5019c44caaa",
   "metadata": {},
   "outputs": [
    {
     "name": "stdout",
     "output_type": "stream",
     "text": [
      "upper: 421.98756510955866\n",
      "lower: -204.3529921728984\n"
     ]
    }
   ],
   "source": [
    "#handling outliers using z-score\n",
    "upper_limit = data['Sourcing Cost'].mean()+ 3*data['Sourcing Cost'].std()\n",
    "lower_limit = data['Sourcing Cost'].mean()- 3*data['Sourcing Cost'].std()\n",
    "print(\"upper:\",upper_limit)\n",
    "print(\"lower:\",lower_limit)"
   ]
  },
  {
   "cell_type": "code",
   "execution_count": 18,
   "id": "360b4bdf-9bb2-4c13-aee2-8bda07f419ac",
   "metadata": {},
   "outputs": [
    {
     "data": {
      "text/html": [
       "<div>\n",
       "<style scoped>\n",
       "    .dataframe tbody tr th:only-of-type {\n",
       "        vertical-align: middle;\n",
       "    }\n",
       "\n",
       "    .dataframe tbody tr th {\n",
       "        vertical-align: top;\n",
       "    }\n",
       "\n",
       "    .dataframe thead th {\n",
       "        text-align: right;\n",
       "    }\n",
       "</style>\n",
       "<table border=\"1\" class=\"dataframe\">\n",
       "  <thead>\n",
       "    <tr style=\"text-align: right;\">\n",
       "      <th></th>\n",
       "      <th>ProductType</th>\n",
       "      <th>Manufacturer</th>\n",
       "      <th>Area Code</th>\n",
       "      <th>Sourcing Channel</th>\n",
       "      <th>Product Size</th>\n",
       "      <th>Product Type</th>\n",
       "      <th>Month of Sourcing</th>\n",
       "      <th>Sourcing Cost</th>\n",
       "    </tr>\n",
       "  </thead>\n",
       "  <tbody>\n",
       "    <tr>\n",
       "      <th>1098</th>\n",
       "      <td>NTM2</td>\n",
       "      <td>X1</td>\n",
       "      <td>A29</td>\n",
       "      <td>DIRECT</td>\n",
       "      <td>Small</td>\n",
       "      <td>Powder</td>\n",
       "      <td>Dec-20</td>\n",
       "      <td>1033.51</td>\n",
       "    </tr>\n",
       "    <tr>\n",
       "      <th>1230</th>\n",
       "      <td>NTM3</td>\n",
       "      <td>X1</td>\n",
       "      <td>A35</td>\n",
       "      <td>DIRECT</td>\n",
       "      <td>Small</td>\n",
       "      <td>Liquid</td>\n",
       "      <td>Jan-21</td>\n",
       "      <td>548.62</td>\n",
       "    </tr>\n",
       "    <tr>\n",
       "      <th>1267</th>\n",
       "      <td>NTM1</td>\n",
       "      <td>X1</td>\n",
       "      <td>A29</td>\n",
       "      <td>DIRECT</td>\n",
       "      <td>Small</td>\n",
       "      <td>Powder</td>\n",
       "      <td>Jan-21</td>\n",
       "      <td>772.44</td>\n",
       "    </tr>\n",
       "    <tr>\n",
       "      <th>1385</th>\n",
       "      <td>NTM3</td>\n",
       "      <td>X1</td>\n",
       "      <td>A35</td>\n",
       "      <td>DIRECT</td>\n",
       "      <td>Small</td>\n",
       "      <td>Liquid</td>\n",
       "      <td>Dec-20</td>\n",
       "      <td>891.67</td>\n",
       "    </tr>\n",
       "    <tr>\n",
       "      <th>1533</th>\n",
       "      <td>NTM1</td>\n",
       "      <td>X1</td>\n",
       "      <td>A29</td>\n",
       "      <td>DIRECT</td>\n",
       "      <td>Small</td>\n",
       "      <td>Powder</td>\n",
       "      <td>Feb-21</td>\n",
       "      <td>427.94</td>\n",
       "    </tr>\n",
       "    <tr>\n",
       "      <th>...</th>\n",
       "      <td>...</td>\n",
       "      <td>...</td>\n",
       "      <td>...</td>\n",
       "      <td>...</td>\n",
       "      <td>...</td>\n",
       "      <td>...</td>\n",
       "      <td>...</td>\n",
       "      <td>...</td>\n",
       "    </tr>\n",
       "    <tr>\n",
       "      <th>549588</th>\n",
       "      <td>NTM2</td>\n",
       "      <td>X1</td>\n",
       "      <td>A29</td>\n",
       "      <td>DIRECT</td>\n",
       "      <td>Large</td>\n",
       "      <td>Powder</td>\n",
       "      <td>Mar-21</td>\n",
       "      <td>483.95</td>\n",
       "    </tr>\n",
       "    <tr>\n",
       "      <th>549589</th>\n",
       "      <td>NTM2</td>\n",
       "      <td>X1</td>\n",
       "      <td>A29</td>\n",
       "      <td>DIRECT</td>\n",
       "      <td>Large</td>\n",
       "      <td>Powder</td>\n",
       "      <td>Feb-21</td>\n",
       "      <td>495.22</td>\n",
       "    </tr>\n",
       "    <tr>\n",
       "      <th>549942</th>\n",
       "      <td>NTM3</td>\n",
       "      <td>X1</td>\n",
       "      <td>A35</td>\n",
       "      <td>DIRECT</td>\n",
       "      <td>ExtraLarge</td>\n",
       "      <td>Powder</td>\n",
       "      <td>Oct-20</td>\n",
       "      <td>3705.00</td>\n",
       "    </tr>\n",
       "    <tr>\n",
       "      <th>549946</th>\n",
       "      <td>NTM2</td>\n",
       "      <td>X1</td>\n",
       "      <td>A38</td>\n",
       "      <td>DIRECT</td>\n",
       "      <td>Small</td>\n",
       "      <td>Powder</td>\n",
       "      <td>Oct-20</td>\n",
       "      <td>457.14</td>\n",
       "    </tr>\n",
       "    <tr>\n",
       "      <th>549985</th>\n",
       "      <td>NTM2</td>\n",
       "      <td>X1</td>\n",
       "      <td>A29</td>\n",
       "      <td>DIRECT</td>\n",
       "      <td>Large</td>\n",
       "      <td>Powder</td>\n",
       "      <td>Feb-21</td>\n",
       "      <td>992.24</td>\n",
       "    </tr>\n",
       "  </tbody>\n",
       "</table>\n",
       "<p>1364 rows × 8 columns</p>\n",
       "</div>"
      ],
      "text/plain": [
       "       ProductType Manufacturer Area Code Sourcing Channel Product Size  \\\n",
       "1098          NTM2           X1       A29           DIRECT        Small   \n",
       "1230          NTM3           X1       A35           DIRECT        Small   \n",
       "1267          NTM1           X1       A29           DIRECT        Small   \n",
       "1385          NTM3           X1       A35           DIRECT        Small   \n",
       "1533          NTM1           X1       A29           DIRECT        Small   \n",
       "...            ...          ...       ...              ...          ...   \n",
       "549588        NTM2           X1       A29           DIRECT        Large   \n",
       "549589        NTM2           X1       A29           DIRECT        Large   \n",
       "549942        NTM3           X1       A35           DIRECT   ExtraLarge   \n",
       "549946        NTM2           X1       A38           DIRECT        Small   \n",
       "549985        NTM2           X1       A29           DIRECT        Large   \n",
       "\n",
       "       Product Type Month of Sourcing  Sourcing Cost  \n",
       "1098         Powder            Dec-20        1033.51  \n",
       "1230         Liquid            Jan-21         548.62  \n",
       "1267         Powder            Jan-21         772.44  \n",
       "1385         Liquid            Dec-20         891.67  \n",
       "1533         Powder            Feb-21         427.94  \n",
       "...             ...               ...            ...  \n",
       "549588       Powder            Mar-21         483.95  \n",
       "549589       Powder            Feb-21         495.22  \n",
       "549942       Powder            Oct-20        3705.00  \n",
       "549946       Powder            Oct-20         457.14  \n",
       "549985       Powder            Feb-21         992.24  \n",
       "\n",
       "[1364 rows x 8 columns]"
      ]
     },
     "execution_count": 18,
     "metadata": {},
     "output_type": "execute_result"
    }
   ],
   "source": [
    "#finding outliers\n",
    "data.loc[(data['Sourcing Cost'] > upper_limit) | (data['Sourcing Cost'] < lower_limit)]"
   ]
  },
  {
   "cell_type": "code",
   "execution_count": 19,
   "id": "89b59335-ed7e-47d3-99ca-a041ef704b19",
   "metadata": {},
   "outputs": [
    {
     "name": "stdout",
     "output_type": "stream",
     "text": [
      "old data: 550176\n",
      "new data: 548812\n",
      "outliers: 1364\n"
     ]
    }
   ],
   "source": [
    "#trimming \n",
    "new_data= data.loc[(data['Sourcing Cost'] < upper_limit) & (data['Sourcing Cost'] > lower_limit)]\n",
    "print(\"old data:\",len(data))\n",
    "print(\"new data:\",len(new_data))\n",
    "print(\"outliers:\",len(data)-len(new_data))"
   ]
  },
  {
   "cell_type": "code",
   "execution_count": 20,
   "id": "ac25b827-a8ce-4b5d-bf76-784271c0c96d",
   "metadata": {},
   "outputs": [
    {
     "data": {
      "text/plain": [
       "<Axes: ylabel='Sourcing Cost'>"
      ]
     },
     "execution_count": 20,
     "metadata": {},
     "output_type": "execute_result"
    },
    {
     "data": {
      "image/png": "[encoded data removed]",
      "text/plain": [
       "<Figure size 640x480 with 1 Axes>"
      ]
     },
     "metadata": {},
     "output_type": "display_data"
    }
   ],
   "source": [
    "sns.boxplot(new_data['Sourcing Cost'])"
   ]
  },
  {
   "cell_type": "code",
   "execution_count": 21,
   "id": "d9f2d824-289a-4cea-be5a-5b13549c4612",
   "metadata": {},
   "outputs": [
    {
     "data": {
      "text/plain": [
       "<Axes: ylabel='Sourcing Cost'>"
      ]
     },
     "execution_count": 21,
     "metadata": {},
     "output_type": "execute_result"
    },
    {
     "data": {
      "image/png": "[encoded data removed]",
      "text/plain": [
       "<Figure size 640x480 with 1 Axes>"
      ]
     },
     "metadata": {},
     "output_type": "display_data"
    }
   ],
   "source": [
    "\n",
    "#capping\n",
    "new_data= data.copy()\n",
    "new_data.loc[new_data['Sourcing Cost'] > upper_limit,'Sourcing Cost'] = upper_limit\n",
    "new_data.loc[new_data['Sourcing Cost'] < lower_limit,'Sourcing Cost'] = lower_limit\n",
    "sns.boxplot(new_data['Sourcing Cost'])"
   ]
  },
  {
   "cell_type": "code",
   "execution_count": 22,
   "id": "e601b936-1697-42aa-8f61-3403bbc2972d",
   "metadata": {},
   "outputs": [
    {
     "data": {
      "text/plain": [
       "550176"
      ]
     },
     "execution_count": 22,
     "metadata": {},
     "output_type": "execute_result"
    }
   ],
   "source": [
    "len(new_data)"
   ]
  },
  {
   "cell_type": "code",
   "execution_count": 23,
   "id": "761cada8-799a-4dd7-810a-ddd4b54e2249",
   "metadata": {},
   "outputs": [
    {
     "data": {
      "image/png": "[encoded data removed]",
      "text/plain": [
       "<Figure size 640x480 with 1 Axes>"
      ]
     },
     "metadata": {},
     "output_type": "display_data"
    }
   ],
   "source": [
    "import matplotlib.pyplot as plt\n",
    "\n",
    "sns.boxplot(x=new_data['Sourcing Cost'])\n",
    "plt.xlabel('Sourcing Cost')\n",
    "plt.show()"
   ]
  },
  {
   "cell_type": "code",
   "execution_count": 24,
   "id": "0eabe376-63d3-41d2-b712-522736f77252",
   "metadata": {},
   "outputs": [
    {
     "name": "stdout",
     "output_type": "stream",
     "text": [
      "upper 224.18\n",
      "lower: 0.0\n"
     ]
    }
   ],
   "source": [
    "#percentile\n",
    "upper= data['Sourcing Cost'].quantile(0.99)\n",
    "lower= data['Sourcing Cost'].quantile(0.01)\n",
    "print(\"upper\",upper)\n",
    "print(\"lower:\",lower)"
   ]
  },
  {
   "cell_type": "code",
   "execution_count": 25,
   "id": "3a0fa4ff-9f5e-4cf0-a4f0-9dbe4d091158",
   "metadata": {},
   "outputs": [
    {
     "data": {
      "text/plain": [
       "<Axes: ylabel='Sourcing Cost'>"
      ]
     },
     "execution_count": 25,
     "metadata": {},
     "output_type": "execute_result"
    },
    {
     "data": {
      "image/png": "[encoded data removed]",
      "text/plain": [
       "<Figure size 640x480 with 1 Axes>"
      ]
     },
     "metadata": {},
     "output_type": "display_data"
    }
   ],
   "source": [
    "sns.boxplot(data['Sourcing Cost'])"
   ]
  },
  {
   "cell_type": "code",
   "execution_count": 26,
   "id": "9742a761-c42b-4179-aaf3-70320ee1cba3",
   "metadata": {},
   "outputs": [
    {
     "data": {
      "text/html": [
       "<div>\n",
       "<style scoped>\n",
       "    .dataframe tbody tr th:only-of-type {\n",
       "        vertical-align: middle;\n",
       "    }\n",
       "\n",
       "    .dataframe tbody tr th {\n",
       "        vertical-align: top;\n",
       "    }\n",
       "\n",
       "    .dataframe thead th {\n",
       "        text-align: right;\n",
       "    }\n",
       "</style>\n",
       "<table border=\"1\" class=\"dataframe\">\n",
       "  <thead>\n",
       "    <tr style=\"text-align: right;\">\n",
       "      <th></th>\n",
       "      <th>ProductType</th>\n",
       "      <th>Manufacturer</th>\n",
       "      <th>Area Code</th>\n",
       "      <th>Sourcing Channel</th>\n",
       "      <th>Product Size</th>\n",
       "      <th>Product Type</th>\n",
       "      <th>Month of Sourcing</th>\n",
       "      <th>Sourcing Cost</th>\n",
       "    </tr>\n",
       "  </thead>\n",
       "  <tbody>\n",
       "    <tr>\n",
       "      <th>495</th>\n",
       "      <td>NTM2</td>\n",
       "      <td>X1</td>\n",
       "      <td>A29</td>\n",
       "      <td>DIRECT</td>\n",
       "      <td>Small</td>\n",
       "      <td>Powder</td>\n",
       "      <td>Jan-21</td>\n",
       "      <td>334.88</td>\n",
       "    </tr>\n",
       "    <tr>\n",
       "      <th>533</th>\n",
       "      <td>NTM3</td>\n",
       "      <td>X1</td>\n",
       "      <td>A35</td>\n",
       "      <td>DIRECT</td>\n",
       "      <td>Small</td>\n",
       "      <td>Liquid</td>\n",
       "      <td>Nov-20</td>\n",
       "      <td>342.40</td>\n",
       "    </tr>\n",
       "    <tr>\n",
       "      <th>551</th>\n",
       "      <td>NTM2</td>\n",
       "      <td>X1</td>\n",
       "      <td>A29</td>\n",
       "      <td>DIRECT</td>\n",
       "      <td>Small</td>\n",
       "      <td>Powder</td>\n",
       "      <td>Jan-21</td>\n",
       "      <td>334.88</td>\n",
       "    </tr>\n",
       "    <tr>\n",
       "      <th>579</th>\n",
       "      <td>NTM3</td>\n",
       "      <td>X1</td>\n",
       "      <td>A35</td>\n",
       "      <td>DIRECT</td>\n",
       "      <td>Small</td>\n",
       "      <td>Liquid</td>\n",
       "      <td>Feb-21</td>\n",
       "      <td>401.25</td>\n",
       "    </tr>\n",
       "    <tr>\n",
       "      <th>680</th>\n",
       "      <td>NTM2</td>\n",
       "      <td>X1</td>\n",
       "      <td>A28</td>\n",
       "      <td>DIRECT</td>\n",
       "      <td>Large</td>\n",
       "      <td>Liquid</td>\n",
       "      <td>Jul-20</td>\n",
       "      <td>237.67</td>\n",
       "    </tr>\n",
       "    <tr>\n",
       "      <th>...</th>\n",
       "      <td>...</td>\n",
       "      <td>...</td>\n",
       "      <td>...</td>\n",
       "      <td>...</td>\n",
       "      <td>...</td>\n",
       "      <td>...</td>\n",
       "      <td>...</td>\n",
       "      <td>...</td>\n",
       "    </tr>\n",
       "    <tr>\n",
       "      <th>549874</th>\n",
       "      <td>NTM2</td>\n",
       "      <td>X1</td>\n",
       "      <td>A29</td>\n",
       "      <td>DIRECT</td>\n",
       "      <td>Large</td>\n",
       "      <td>Powder</td>\n",
       "      <td>Dec-20</td>\n",
       "      <td>233.27</td>\n",
       "    </tr>\n",
       "    <tr>\n",
       "      <th>549942</th>\n",
       "      <td>NTM3</td>\n",
       "      <td>X1</td>\n",
       "      <td>A35</td>\n",
       "      <td>DIRECT</td>\n",
       "      <td>ExtraLarge</td>\n",
       "      <td>Powder</td>\n",
       "      <td>Oct-20</td>\n",
       "      <td>3705.00</td>\n",
       "    </tr>\n",
       "    <tr>\n",
       "      <th>549946</th>\n",
       "      <td>NTM2</td>\n",
       "      <td>X1</td>\n",
       "      <td>A38</td>\n",
       "      <td>DIRECT</td>\n",
       "      <td>Small</td>\n",
       "      <td>Powder</td>\n",
       "      <td>Oct-20</td>\n",
       "      <td>457.14</td>\n",
       "    </tr>\n",
       "    <tr>\n",
       "      <th>549985</th>\n",
       "      <td>NTM2</td>\n",
       "      <td>X1</td>\n",
       "      <td>A29</td>\n",
       "      <td>DIRECT</td>\n",
       "      <td>Large</td>\n",
       "      <td>Powder</td>\n",
       "      <td>Feb-21</td>\n",
       "      <td>992.24</td>\n",
       "    </tr>\n",
       "    <tr>\n",
       "      <th>550154</th>\n",
       "      <td>NTM1</td>\n",
       "      <td>X2</td>\n",
       "      <td>A42</td>\n",
       "      <td>DIRECT</td>\n",
       "      <td>Large</td>\n",
       "      <td>Powder</td>\n",
       "      <td>Mar-21</td>\n",
       "      <td>228.73</td>\n",
       "    </tr>\n",
       "  </tbody>\n",
       "</table>\n",
       "<p>5560 rows × 8 columns</p>\n",
       "</div>"
      ],
      "text/plain": [
       "       ProductType Manufacturer Area Code Sourcing Channel Product Size  \\\n",
       "495           NTM2           X1       A29           DIRECT        Small   \n",
       "533           NTM3           X1       A35           DIRECT        Small   \n",
       "551           NTM2           X1       A29           DIRECT        Small   \n",
       "579           NTM3           X1       A35           DIRECT        Small   \n",
       "680           NTM2           X1       A28           DIRECT        Large   \n",
       "...            ...          ...       ...              ...          ...   \n",
       "549874        NTM2           X1       A29           DIRECT        Large   \n",
       "549942        NTM3           X1       A35           DIRECT   ExtraLarge   \n",
       "549946        NTM2           X1       A38           DIRECT        Small   \n",
       "549985        NTM2           X1       A29           DIRECT        Large   \n",
       "550154        NTM1           X2       A42           DIRECT        Large   \n",
       "\n",
       "       Product Type Month of Sourcing  Sourcing Cost  \n",
       "495          Powder            Jan-21         334.88  \n",
       "533          Liquid            Nov-20         342.40  \n",
       "551          Powder            Jan-21         334.88  \n",
       "579          Liquid            Feb-21         401.25  \n",
       "680          Liquid            Jul-20         237.67  \n",
       "...             ...               ...            ...  \n",
       "549874       Powder            Dec-20         233.27  \n",
       "549942       Powder            Oct-20        3705.00  \n",
       "549946       Powder            Oct-20         457.14  \n",
       "549985       Powder            Feb-21         992.24  \n",
       "550154       Powder            Mar-21         228.73  \n",
       "\n",
       "[5560 rows x 8 columns]"
      ]
     },
     "execution_count": 26,
     "metadata": {},
     "output_type": "execute_result"
    }
   ],
   "source": [
    "data.loc[(data['Sourcing Cost'] > upper) | (data['Sourcing Cost'] < lower)]"
   ]
  },
  {
   "cell_type": "code",
   "execution_count": 27,
   "id": "c8fb1b0e-c39f-4393-8e8f-9c72a1a5d863",
   "metadata": {},
   "outputs": [
    {
     "name": "stdout",
     "output_type": "stream",
     "text": [
      "old data: 550176\n",
      "new data: 544616\n",
      "outliers: 5560\n"
     ]
    }
   ],
   "source": [
    "#trimming \n",
    "new_data= data.loc[(data['Sourcing Cost'] <= upper) & (data['Sourcing Cost'] >= lower)]\n",
    "print(\"old data:\",len(data))\n",
    "print(\"new data:\",len(new_data))\n",
    "print(\"outliers:\",len(data)-len(new_data))"
   ]
  },
  {
   "cell_type": "code",
   "execution_count": 28,
   "id": "9294278e-4760-4067-8afb-c4a3e02e52cb",
   "metadata": {},
   "outputs": [
    {
     "data": {
      "text/plain": [
       "<Axes: ylabel='Sourcing Cost'>"
      ]
     },
     "execution_count": 28,
     "metadata": {},
     "output_type": "execute_result"
    },
    {
     "data": {
      "image/png": "[encoded data removed]",
      "text/plain": [
       "<Figure size 640x480 with 1 Axes>"
      ]
     },
     "metadata": {},
     "output_type": "display_data"
    }
   ],
   "source": [
    "sns.boxplot(new_data['Sourcing Cost'])"
   ]
  },
  {
   "cell_type": "code",
   "execution_count": 29,
   "id": "74ac6d3d-e15d-4086-abd0-c05670097e4a",
   "metadata": {},
   "outputs": [
    {
     "data": {
      "text/plain": [
       "<Axes: ylabel='Sourcing Cost'>"
      ]
     },
     "execution_count": 29,
     "metadata": {},
     "output_type": "execute_result"
    },
    {
     "data": {
      "image/png": "[encoded data removed]",
      "text/plain": [
       "<Figure size 640x480 with 1 Axes>"
      ]
     },
     "metadata": {},
     "output_type": "display_data"
    }
   ],
   "source": [
    "#capping\n",
    "new_data= data.copy()\n",
    "new_data.loc[new_data['Sourcing Cost'] > upper,'Sourcing Cost'] = upper\n",
    "new_data.loc[new_data['Sourcing Cost'] < lower,'Sourcing Cost'] = lower\n",
    "sns.boxplot(new_data['Sourcing Cost'])"
   ]
  },
  {
   "cell_type": "code",
   "execution_count": 30,
   "id": "0e854204-5167-4381-8694-69b53cc550be",
   "metadata": {},
   "outputs": [
    {
     "data": {
      "text/plain": [
       "550176"
      ]
     },
     "execution_count": 30,
     "metadata": {},
     "output_type": "execute_result"
    }
   ],
   "source": [
    "len(new_data)\n"
   ]
  },
  {
   "cell_type": "markdown",
   "id": "a4d87ec4-f5fa-4e65-abb6-19b3dfcfbe42",
   "metadata": {},
   "source": [
    "### Structure of data before"
   ]
  },
  {
   "cell_type": "code",
   "execution_count": 32,
   "id": "7811e877-d265-4864-9b3b-4d28c97b47c0",
   "metadata": {},
   "outputs": [
    {
     "name": "stderr",
     "output_type": "stream",
     "text": [
      "C:\\Users\\Jasmita\\AppData\\Local\\Temp\\ipykernel_13584\\3663066091.py:1: UserWarning: \n",
      "\n",
      "`distplot` is a deprecated function and will be removed in seaborn v0.14.0.\n",
      "\n",
      "Please adapt your code to use either `displot` (a figure-level function with\n",
      "similar flexibility) or `histplot` (an axes-level function for histograms).\n",
      "\n",
      "For a guide to updating your code to use the new functions, please see\n",
      "https://gist.github.com/mwaskom/de44147ed2974457ad6372750bbe5751\n",
      "\n",
      "  sns.distplot(data['Sourcing Cost'])\n"
     ]
    },
    {
     "data": {
      "text/plain": [
       "<Axes: xlabel='Sourcing Cost', ylabel='Density'>"
      ]
     },
     "execution_count": 32,
     "metadata": {},
     "output_type": "execute_result"
    },
    {
     "data": {
      "image/png": "[encoded data removed]",
      "text/plain": [
       "<Figure size 640x480 with 1 Axes>"
      ]
     },
     "metadata": {},
     "output_type": "display_data"
    }
   ],
   "source": [
    "sns.distplot(data['Sourcing Cost'])\n"
   ]
  },
  {
   "cell_type": "markdown",
   "id": "0e78ecfd-6b9b-48f3-8b82-f131151d8b51",
   "metadata": {},
   "source": [
    "### Structure of data after handling outliers "
   ]
  },
  {
   "cell_type": "code",
   "execution_count": 33,
   "id": "8d8ec037-83d5-429e-81f9-bab4b2b344d0",
   "metadata": {},
   "outputs": [
    {
     "name": "stderr",
     "output_type": "stream",
     "text": [
      "C:\\Users\\Jasmita\\AppData\\Local\\Temp\\ipykernel_13584\\3409755388.py:1: UserWarning: \n",
      "\n",
      "`distplot` is a deprecated function and will be removed in seaborn v0.14.0.\n",
      "\n",
      "Please adapt your code to use either `displot` (a figure-level function with\n",
      "similar flexibility) or `histplot` (an axes-level function for histograms).\n",
      "\n",
      "For a guide to updating your code to use the new functions, please see\n",
      "https://gist.github.com/mwaskom/de44147ed2974457ad6372750bbe5751\n",
      "\n",
      "  sns.distplot(new_data['Sourcing Cost'])\n"
     ]
    },
    {
     "data": {
      "text/plain": [
       "<Axes: xlabel='Sourcing Cost', ylabel='Density'>"
      ]
     },
     "execution_count": 33,
     "metadata": {},
     "output_type": "execute_result"
    },
    {
     "data": {
      "image/png": "[encoded data removed]",
      "text/plain": [
       "<Figure size 640x480 with 1 Axes>"
      ]
     },
     "metadata": {},
     "output_type": "display_data"
    }
   ],
   "source": [
    "sns.distplot(new_data['Sourcing Cost'])\n"
   ]
  },
  {
   "cell_type": "code",
   "execution_count": 34,
   "id": "9e8bcd68-89b5-4561-bba5-65b562a0715d",
   "metadata": {},
   "outputs": [],
   "source": [
    "data=new_data"
   ]
  },
  {
   "cell_type": "markdown",
   "id": "549413a8-aebc-4024-9f6f-a5c0d040a564",
   "metadata": {},
   "source": [
    "# XGB Regressor "
   ]
  },
  {
   "cell_type": "code",
   "execution_count": 35,
   "id": "16d77895-4aeb-4db3-9049-aeba5f754053",
   "metadata": {},
   "outputs": [
    {
     "name": "stdout",
     "output_type": "stream",
     "text": [
      "Performance metrices for XGbRegressor: \n",
      "\n",
      "Mean Absolute Error (MAE): 16.37233628074328\n",
      "Mean Squared Error (MSE): 1079.6444785491233\n",
      "R-squared (R2) Score: 0.6020415935724674\n",
      "Median Absolute Error (MedAE): 4.116790771484375\n",
      "Mean Absolute Percentage Error (MAPE): 0.42474132179943863\n"
     ]
    }
   ],
   "source": [
    "#using gradient boosting : XGBRegressor \n",
    "import pandas as pd\n",
    "from sklearn.compose import ColumnTransformer\n",
    "from sklearn.preprocessing import OneHotEncoder\n",
    "from sklearn.pipeline import Pipeline\n",
    "import joblib  # Import joblib module\n",
    "from sklearn.metrics import mean_absolute_error, mean_squared_error, r2_score, median_absolute_error, mean_absolute_percentage_error\n",
    "from xgboost import XGBRegressor  \n",
    "\n",
    "training_data = data\n",
    "testing_data = pd.read_csv(\"C:/Users/Jasmita/Downloads/Testing.csv\")\n",
    "\n",
    "# Combine training and testing data for preprocessing\n",
    "combined_data = pd.concat([training_data, testing_data], ignore_index=True)\n",
    "\n",
    "# Split data into features and target variable for training and testing\n",
    "X_train = training_data.drop(columns=['Sourcing Cost'])\n",
    "y_train = training_data['Sourcing Cost']\n",
    "X_test = testing_data.drop(columns=['Sourcing Cost'])\n",
    "categorical_features = X_train.columns\n",
    "preprocessor = ColumnTransformer(\n",
    "    transformers=[\n",
    "        ('cat', OneHotEncoder(handle_unknown='ignore'), categorical_features)\n",
    "    ])\n",
    "# Define the pipeline with XGBoost regressor\n",
    "pipeline = Pipeline(steps=[\n",
    "    ('preprocessor', preprocessor),\n",
    "    ('regressor', XGBRegressor(eta=0.1999,gamma=53,max_depth=6, min_child_weight=1,  reg_alpha=0, n_estimators=1000, \n",
    "                              learning_rate=0.1\n",
    "                               ))  \n",
    "])\n",
    "# Fit the model\n",
    "pipeline.fit(X_train, y_train)\n",
    "# Save the trained model to a file\n",
    "joblib.dump(pipeline, 'trained_model_xgboost.pkl')\n",
    "# Load the saved model\n",
    "pipeline = joblib.load('trained_model_xgboost.pkl')\n",
    "# Generate predictions for the testing data\n",
    "june_21_prediction = pipeline.predict(X_test)\n",
    "# Calculate performance metrics\n",
    "mae = mean_absolute_error(testing_data['Sourcing Cost'], june_21_prediction)\n",
    "mse = mean_squared_error(testing_data['Sourcing Cost'], june_21_prediction)\n",
    "r2 = r2_score(testing_data['Sourcing Cost'], june_21_prediction)\n",
    "medae = median_absolute_error(testing_data['Sourcing Cost'], june_21_prediction)\n",
    "mape = mean_absolute_percentage_error(testing_data['Sourcing Cost'], june_21_prediction)\n",
    "print(\"Performance metrices for XGbRegressor: \\n\")\n",
    "print('Mean Absolute Error (MAE):', mae)\n",
    "print('Mean Squared Error (MSE):', mse)\n",
    "print('R-squared (R2) Score:', r2)\n",
    "print('Median Absolute Error (MedAE):', medae)\n",
    "print('Mean Absolute Percentage Error (MAPE):', mape)"
   ]
  },
  {
   "cell_type": "code",
   "execution_count": null,
   "id": "b72bdfbb-9549-406c-8a3f-50a610221331",
   "metadata": {},
   "outputs": [],
   "source": []
  }
 ],
 "metadata": {
  "kernelspec": {
   "display_name": "Python 3 (ipykernel)",
   "language": "python",
   "name": "python3"
  },
  "language_info": {
   "codemirror_mode": {
    "name": "ipython",
    "version": 3
   },
   "file_extension": ".py",
   "mimetype": "text/x-python",
   "name": "python",
   "nbconvert_exporter": "python",
   "pygments_lexer": "ipython3",
   "version": "3.12.2"
  }
 },
 "nbformat": 4,
 "nbformat_minor": 5
}
