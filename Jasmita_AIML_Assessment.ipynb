{
 "cells": [
  {
   "cell_type": "code",
   "execution_count": 1,
   "id": "7e6c73be-be1a-4e48-ab28-d255fe64d810",
   "metadata": {},
   "outputs": [],
   "source": [
    "import pandas as pd\n",
    "import numpy as np\n",
    "import seaborn as sns"
   ]
  },
  {
   "cell_type": "code",
   "execution_count": 2,
   "id": "f52e5fc3-c472-4405-8cca-d410c07d8ad2",
   "metadata": {},
   "outputs": [],
   "source": [
    "data = pd.read_csv(\"C:/Users/Jasmita/Downloads/Training.csv\")"
   ]
  },
  {
   "cell_type": "code",
   "execution_count": 3,
   "id": "4d9ef181-de28-486f-9600-dbf2daa2fbef",
   "metadata": {},
   "outputs": [
    {
     "data": {
      "text/html": [
       "<div>\n",
       "<style scoped>\n",
       "    .dataframe tbody tr th:only-of-type {\n",
       "        vertical-align: middle;\n",
       "    }\n",
       "\n",
       "    .dataframe tbody tr th {\n",
       "        vertical-align: top;\n",
       "    }\n",
       "\n",
       "    .dataframe thead th {\n",
       "        text-align: right;\n",
       "    }\n",
       "</style>\n",
       "<table border=\"1\" class=\"dataframe\">\n",
       "  <thead>\n",
       "    <tr style=\"text-align: right;\">\n",
       "      <th></th>\n",
       "      <th>ProductType</th>\n",
       "      <th>Manufacturer</th>\n",
       "      <th>Area Code</th>\n",
       "      <th>Sourcing Channel</th>\n",
       "      <th>Product Size</th>\n",
       "      <th>Product Type</th>\n",
       "      <th>Month of Sourcing</th>\n",
       "      <th>Sourcing Cost</th>\n",
       "    </tr>\n",
       "  </thead>\n",
       "  <tbody>\n",
       "    <tr>\n",
       "      <th>0</th>\n",
       "      <td>NTM3</td>\n",
       "      <td>X1</td>\n",
       "      <td>A28</td>\n",
       "      <td>WHOLESALE</td>\n",
       "      <td>Large</td>\n",
       "      <td>Powder</td>\n",
       "      <td>May-21</td>\n",
       "      <td>10.16</td>\n",
       "    </tr>\n",
       "    <tr>\n",
       "      <th>1</th>\n",
       "      <td>NTM2</td>\n",
       "      <td>X1</td>\n",
       "      <td>A9</td>\n",
       "      <td>DIRECT</td>\n",
       "      <td>Large</td>\n",
       "      <td>Powder</td>\n",
       "      <td>Oct-20</td>\n",
       "      <td>134.28</td>\n",
       "    </tr>\n",
       "    <tr>\n",
       "      <th>2</th>\n",
       "      <td>NTM3</td>\n",
       "      <td>X2</td>\n",
       "      <td>A20</td>\n",
       "      <td>DIRECT</td>\n",
       "      <td>Large</td>\n",
       "      <td>Powder</td>\n",
       "      <td>Dec-20</td>\n",
       "      <td>12.46</td>\n",
       "    </tr>\n",
       "    <tr>\n",
       "      <th>3</th>\n",
       "      <td>NTM3</td>\n",
       "      <td>X1</td>\n",
       "      <td>A18</td>\n",
       "      <td>WHOLESALE</td>\n",
       "      <td>Small</td>\n",
       "      <td>Powder</td>\n",
       "      <td>Feb-21</td>\n",
       "      <td>107.22</td>\n",
       "    </tr>\n",
       "    <tr>\n",
       "      <th>4</th>\n",
       "      <td>NTM2</td>\n",
       "      <td>X1</td>\n",
       "      <td>A28</td>\n",
       "      <td>DIRECT</td>\n",
       "      <td>Large</td>\n",
       "      <td>Liquid</td>\n",
       "      <td>Nov-20</td>\n",
       "      <td>197.76</td>\n",
       "    </tr>\n",
       "  </tbody>\n",
       "</table>\n",
       "</div>"
      ],
      "text/plain": [
       "  ProductType Manufacturer Area Code Sourcing Channel Product Size  \\\n",
       "0        NTM3           X1       A28        WHOLESALE        Large   \n",
       "1        NTM2           X1        A9           DIRECT        Large   \n",
       "2        NTM3           X2       A20           DIRECT        Large   \n",
       "3        NTM3           X1       A18        WHOLESALE        Small   \n",
       "4        NTM2           X1       A28           DIRECT        Large   \n",
       "\n",
       "  Product Type Month of Sourcing  Sourcing Cost  \n",
       "0       Powder            May-21          10.16  \n",
       "1       Powder            Oct-20         134.28  \n",
       "2       Powder            Dec-20          12.46  \n",
       "3       Powder            Feb-21         107.22  \n",
       "4       Liquid            Nov-20         197.76  "
      ]
     },
     "execution_count": 3,
     "metadata": {},
     "output_type": "execute_result"
    }
   ],
   "source": [
    "#understanding the data\n",
    "data.head()"
   ]
  },
  {
   "cell_type": "code",
   "execution_count": 4,
   "id": "8a35a470-ca78-47a5-af20-8f3d0db21714",
   "metadata": {},
   "outputs": [
    {
     "data": {
      "text/html": [
       "<div>\n",
       "<style scoped>\n",
       "    .dataframe tbody tr th:only-of-type {\n",
       "        vertical-align: middle;\n",
       "    }\n",
       "\n",
       "    .dataframe tbody tr th {\n",
       "        vertical-align: top;\n",
       "    }\n",
       "\n",
       "    .dataframe thead th {\n",
       "        text-align: right;\n",
       "    }\n",
       "</style>\n",
       "<table border=\"1\" class=\"dataframe\">\n",
       "  <thead>\n",
       "    <tr style=\"text-align: right;\">\n",
       "      <th></th>\n",
       "      <th>ProductType</th>\n",
       "      <th>Manufacturer</th>\n",
       "      <th>Area Code</th>\n",
       "      <th>Sourcing Channel</th>\n",
       "      <th>Product Size</th>\n",
       "      <th>Product Type</th>\n",
       "      <th>Month of Sourcing</th>\n",
       "      <th>Sourcing Cost</th>\n",
       "    </tr>\n",
       "  </thead>\n",
       "  <tbody>\n",
       "    <tr>\n",
       "      <th>550171</th>\n",
       "      <td>NTM2</td>\n",
       "      <td>X1</td>\n",
       "      <td>A5</td>\n",
       "      <td>DIRECT</td>\n",
       "      <td>Large</td>\n",
       "      <td>Powder</td>\n",
       "      <td>Jul-20</td>\n",
       "      <td>136.47</td>\n",
       "    </tr>\n",
       "    <tr>\n",
       "      <th>550172</th>\n",
       "      <td>NTM3</td>\n",
       "      <td>X1</td>\n",
       "      <td>A14</td>\n",
       "      <td>DIRECT</td>\n",
       "      <td>Large</td>\n",
       "      <td>Liquid</td>\n",
       "      <td>Oct-20</td>\n",
       "      <td>72.56</td>\n",
       "    </tr>\n",
       "    <tr>\n",
       "      <th>550173</th>\n",
       "      <td>NTM2</td>\n",
       "      <td>X1</td>\n",
       "      <td>A5</td>\n",
       "      <td>DIRECT</td>\n",
       "      <td>Small</td>\n",
       "      <td>Powder</td>\n",
       "      <td>Mar-21</td>\n",
       "      <td>147.64</td>\n",
       "    </tr>\n",
       "    <tr>\n",
       "      <th>550174</th>\n",
       "      <td>NTM2</td>\n",
       "      <td>X1</td>\n",
       "      <td>A7</td>\n",
       "      <td>DIRECT</td>\n",
       "      <td>Small</td>\n",
       "      <td>Powder</td>\n",
       "      <td>Feb-21</td>\n",
       "      <td>150.04</td>\n",
       "    </tr>\n",
       "    <tr>\n",
       "      <th>550175</th>\n",
       "      <td>NTM1</td>\n",
       "      <td>X1</td>\n",
       "      <td>A3</td>\n",
       "      <td>DIRECT</td>\n",
       "      <td>Small</td>\n",
       "      <td>Powder</td>\n",
       "      <td>Nov-20</td>\n",
       "      <td>139.42</td>\n",
       "    </tr>\n",
       "  </tbody>\n",
       "</table>\n",
       "</div>"
      ],
      "text/plain": [
       "       ProductType Manufacturer Area Code Sourcing Channel Product Size  \\\n",
       "550171        NTM2           X1        A5           DIRECT        Large   \n",
       "550172        NTM3           X1       A14           DIRECT        Large   \n",
       "550173        NTM2           X1        A5           DIRECT        Small   \n",
       "550174        NTM2           X1        A7           DIRECT        Small   \n",
       "550175        NTM1           X1        A3           DIRECT        Small   \n",
       "\n",
       "       Product Type Month of Sourcing  Sourcing Cost  \n",
       "550171       Powder            Jul-20         136.47  \n",
       "550172       Liquid            Oct-20          72.56  \n",
       "550173       Powder            Mar-21         147.64  \n",
       "550174       Powder            Feb-21         150.04  \n",
       "550175       Powder            Nov-20         139.42  "
      ]
     },
     "execution_count": 4,
     "metadata": {},
     "output_type": "execute_result"
    }
   ],
   "source": [
    "data.tail()"
   ]
  },
  {
   "cell_type": "code",
   "execution_count": 5,
   "id": "ccb1c81b-e945-42b0-aaaa-16e416d5fb26",
   "metadata": {},
   "outputs": [
    {
     "data": {
      "text/plain": [
       "(550176, 8)"
      ]
     },
     "execution_count": 5,
     "metadata": {},
     "output_type": "execute_result"
    }
   ],
   "source": [
    "data.shape"
   ]
  },
  {
   "cell_type": "code",
   "execution_count": 6,
   "id": "b8c23bde-2a79-4979-afc4-89146392ce6c",
   "metadata": {},
   "outputs": [
    {
     "data": {
      "text/html": [
       "<div>\n",
       "<style scoped>\n",
       "    .dataframe tbody tr th:only-of-type {\n",
       "        vertical-align: middle;\n",
       "    }\n",
       "\n",
       "    .dataframe tbody tr th {\n",
       "        vertical-align: top;\n",
       "    }\n",
       "\n",
       "    .dataframe thead th {\n",
       "        text-align: right;\n",
       "    }\n",
       "</style>\n",
       "<table border=\"1\" class=\"dataframe\">\n",
       "  <thead>\n",
       "    <tr style=\"text-align: right;\">\n",
       "      <th></th>\n",
       "      <th>Sourcing Cost</th>\n",
       "    </tr>\n",
       "  </thead>\n",
       "  <tbody>\n",
       "    <tr>\n",
       "      <th>count</th>\n",
       "      <td>550176.000000</td>\n",
       "    </tr>\n",
       "    <tr>\n",
       "      <th>mean</th>\n",
       "      <td>108.817286</td>\n",
       "    </tr>\n",
       "    <tr>\n",
       "      <th>std</th>\n",
       "      <td>104.390093</td>\n",
       "    </tr>\n",
       "    <tr>\n",
       "      <th>min</th>\n",
       "      <td>-196.070000</td>\n",
       "    </tr>\n",
       "    <tr>\n",
       "      <th>25%</th>\n",
       "      <td>57.000000</td>\n",
       "    </tr>\n",
       "    <tr>\n",
       "      <th>50%</th>\n",
       "      <td>132.000000</td>\n",
       "    </tr>\n",
       "    <tr>\n",
       "      <th>75%</th>\n",
       "      <td>146.150000</td>\n",
       "    </tr>\n",
       "    <tr>\n",
       "      <th>max</th>\n",
       "      <td>32632.500000</td>\n",
       "    </tr>\n",
       "  </tbody>\n",
       "</table>\n",
       "</div>"
      ],
      "text/plain": [
       "       Sourcing Cost\n",
       "count  550176.000000\n",
       "mean      108.817286\n",
       "std       104.390093\n",
       "min      -196.070000\n",
       "25%        57.000000\n",
       "50%       132.000000\n",
       "75%       146.150000\n",
       "max     32632.500000"
      ]
     },
     "execution_count": 6,
     "metadata": {},
     "output_type": "execute_result"
    }
   ],
   "source": [
    "data.describe()"
   ]
  },
  {
   "cell_type": "code",
   "execution_count": 7,
   "id": "fc065ca2-cc41-432b-953d-6220a29df644",
   "metadata": {},
   "outputs": [
    {
     "data": {
      "text/plain": [
       "ProductType             3\n",
       "Manufacturer            3\n",
       "Area Code              45\n",
       "Sourcing Channel        4\n",
       "Product Size            3\n",
       "Product Type            2\n",
       "Month of Sourcing      11\n",
       "Sourcing Cost        4529\n",
       "dtype: int64"
      ]
     },
     "execution_count": 7,
     "metadata": {},
     "output_type": "execute_result"
    }
   ],
   "source": [
    "data.nunique()"
   ]
  },
  {
   "cell_type": "code",
   "execution_count": 8,
   "id": "34c8d7e4-e7d9-4495-a935-c60a41087715",
   "metadata": {},
   "outputs": [
    {
     "data": {
      "text/plain": [
       "ProductType          0\n",
       "Manufacturer         0\n",
       "Area Code            0\n",
       "Sourcing Channel     0\n",
       "Product Size         0\n",
       "Product Type         0\n",
       "Month of Sourcing    0\n",
       "Sourcing Cost        0\n",
       "dtype: int64"
      ]
     },
     "execution_count": 8,
     "metadata": {},
     "output_type": "execute_result"
    }
   ],
   "source": [
    "data.isnull().sum()\n"
   ]
  },
  {
   "cell_type": "code",
   "execution_count": 9,
   "id": "2ac4fd0b-018f-4ab7-b561-d5d34393518c",
   "metadata": {},
   "outputs": [
    {
     "data": {
      "text/plain": [
       "(550176, 8)"
      ]
     },
     "execution_count": 9,
     "metadata": {},
     "output_type": "execute_result"
    }
   ],
   "source": [
    "data.shape"
   ]
  },
  {
   "cell_type": "code",
   "execution_count": 10,
   "id": "3a9554cc-9ba7-4c5d-8ed9-de92d2ef954b",
   "metadata": {},
   "outputs": [
    {
     "data": {
      "text/html": [
       "<div>\n",
       "<style scoped>\n",
       "    .dataframe tbody tr th:only-of-type {\n",
       "        vertical-align: middle;\n",
       "    }\n",
       "\n",
       "    .dataframe tbody tr th {\n",
       "        vertical-align: top;\n",
       "    }\n",
       "\n",
       "    .dataframe thead th {\n",
       "        text-align: right;\n",
       "    }\n",
       "</style>\n",
       "<table border=\"1\" class=\"dataframe\">\n",
       "  <thead>\n",
       "    <tr style=\"text-align: right;\">\n",
       "      <th></th>\n",
       "      <th>Sourcing Cost</th>\n",
       "    </tr>\n",
       "  </thead>\n",
       "  <tbody>\n",
       "    <tr>\n",
       "      <th>count</th>\n",
       "      <td>550176.000000</td>\n",
       "    </tr>\n",
       "    <tr>\n",
       "      <th>mean</th>\n",
       "      <td>108.817286</td>\n",
       "    </tr>\n",
       "    <tr>\n",
       "      <th>std</th>\n",
       "      <td>104.390093</td>\n",
       "    </tr>\n",
       "    <tr>\n",
       "      <th>min</th>\n",
       "      <td>-196.070000</td>\n",
       "    </tr>\n",
       "    <tr>\n",
       "      <th>25%</th>\n",
       "      <td>57.000000</td>\n",
       "    </tr>\n",
       "    <tr>\n",
       "      <th>50%</th>\n",
       "      <td>132.000000</td>\n",
       "    </tr>\n",
       "    <tr>\n",
       "      <th>75%</th>\n",
       "      <td>146.150000</td>\n",
       "    </tr>\n",
       "    <tr>\n",
       "      <th>max</th>\n",
       "      <td>32632.500000</td>\n",
       "    </tr>\n",
       "  </tbody>\n",
       "</table>\n",
       "</div>"
      ],
      "text/plain": [
       "       Sourcing Cost\n",
       "count  550176.000000\n",
       "mean      108.817286\n",
       "std       104.390093\n",
       "min      -196.070000\n",
       "25%        57.000000\n",
       "50%       132.000000\n",
       "75%       146.150000\n",
       "max     32632.500000"
      ]
     },
     "execution_count": 10,
     "metadata": {},
     "output_type": "execute_result"
    }
   ],
   "source": [
    "data.describe()\n"
   ]
  },
  {
   "cell_type": "code",
   "execution_count": 11,
   "id": "6f06d6b1-5f92-47b7-85fd-8a979c2a36d6",
   "metadata": {},
   "outputs": [
    {
     "data": {
      "text/plain": [
       "ProductType             3\n",
       "Manufacturer            3\n",
       "Area Code              45\n",
       "Sourcing Channel        4\n",
       "Product Size            3\n",
       "Product Type            2\n",
       "Month of Sourcing      11\n",
       "Sourcing Cost        4529\n",
       "dtype: int64"
      ]
     },
     "execution_count": 11,
     "metadata": {},
     "output_type": "execute_result"
    }
   ],
   "source": [
    "data.nunique()"
   ]
  },
  {
   "cell_type": "code",
   "execution_count": 12,
   "id": "dd137b02-4d90-4dfb-9f67-2947caee7488",
   "metadata": {},
   "outputs": [
    {
     "data": {
      "text/plain": [
       "ProductType          0\n",
       "Manufacturer         0\n",
       "Area Code            0\n",
       "Sourcing Channel     0\n",
       "Product Size         0\n",
       "Product Type         0\n",
       "Month of Sourcing    0\n",
       "Sourcing Cost        0\n",
       "dtype: int64"
      ]
     },
     "execution_count": 12,
     "metadata": {},
     "output_type": "execute_result"
    }
   ],
   "source": [
    "data.isnull().sum()\n"
   ]
  },
  {
   "cell_type": "code",
   "execution_count": 13,
   "id": "cfe6640c-de63-402d-8ba6-4054850dbee5",
   "metadata": {},
   "outputs": [
    {
     "data": {
      "text/plain": [
       "<seaborn.axisgrid.PairGrid at 0x12d385743e0>"
      ]
     },
     "execution_count": 13,
     "metadata": {},
     "output_type": "execute_result"
    },
    {
     "data": {
      "image/png": "[encoded data removed]",
      "text/plain": [
       "<Figure size 250x250 with 2 Axes>"
      ]
     },
     "metadata": {},
     "output_type": "display_data"
    }
   ],
   "source": [
    "#anylysis of relationship\n",
    "sns.pairplot(data)\n"
   ]
  },
  {
   "cell_type": "code",
   "execution_count": 14,
   "id": "a888241f-c67a-4f99-9f35-7feec3f04e99",
   "metadata": {},
   "outputs": [
    {
     "data": {
      "text/plain": [
       "<seaborn.axisgrid.FacetGrid at 0x12d77bdc470>"
      ]
     },
     "execution_count": 14,
     "metadata": {},
     "output_type": "execute_result"
    },
    {
     "data": {
      "image/png": "[encoded data removed]",
      "text/plain": [
       "<Figure size 606.986x500 with 1 Axes>"
      ]
     },
     "metadata": {},
     "output_type": "display_data"
    }
   ],
   "source": [
    "sns.relplot(x='Manufacturer',y='Month of Sourcing',hue='Sourcing Cost',data=data)"
   ]
  },
  {
   "cell_type": "code",
   "execution_count": 15,
   "id": "beb669ee-b2d4-4e97-b493-b3c2d75d121d",
   "metadata": {},
   "outputs": [
    {
     "name": "stderr",
     "output_type": "stream",
     "text": [
      "C:\\Users\\Jasmita\\AppData\\Local\\Temp\\ipykernel_11832\\2530515667.py:1: UserWarning: \n",
      "\n",
      "`distplot` is a deprecated function and will be removed in seaborn v0.14.0.\n",
      "\n",
      "Please adapt your code to use either `displot` (a figure-level function with\n",
      "similar flexibility) or `histplot` (an axes-level function for histograms).\n",
      "\n",
      "For a guide to updating your code to use the new functions, please see\n",
      "https://gist.github.com/mwaskom/de44147ed2974457ad6372750bbe5751\n",
      "\n",
      "  sns.distplot(data['Sourcing Cost'])\n"
     ]
    },
    {
     "data": {
      "text/plain": [
       "<Axes: xlabel='Sourcing Cost', ylabel='Density'>"
      ]
     },
     "execution_count": 15,
     "metadata": {},
     "output_type": "execute_result"
    },
    {
     "data": {
      "image/png": "[encoded data removed]",
      "text/plain": [
       "<Figure size 640x480 with 1 Axes>"
      ]
     },
     "metadata": {},
     "output_type": "display_data"
    }
   ],
   "source": [
    "sns.distplot(data['Sourcing Cost'])"
   ]
  },
  {
   "cell_type": "code",
   "execution_count": 16,
   "id": "9c56bcfa-f509-44e1-b9bf-6665636895df",
   "metadata": {},
   "outputs": [
    {
     "data": {
      "text/plain": [
       "<seaborn.axisgrid.FacetGrid at 0x12d793bbbf0>"
      ]
     },
     "execution_count": 16,
     "metadata": {},
     "output_type": "execute_result"
    },
    {
     "data": {
      "image/png": "[encoded data removed]",
      "text/plain": [
       "<Figure size 511.111x500 with 1 Axes>"
      ]
     },
     "metadata": {},
     "output_type": "display_data"
    }
   ],
   "source": [
    "sns.catplot(x='Sourcing Cost',kind='box',data=data)"
   ]
  },
  {
   "cell_type": "code",
   "execution_count": 17,
   "id": "f7f43514-7332-4819-b1af-e88a10a9d772",
   "metadata": {},
   "outputs": [
    {
     "data": {
      "text/plain": [
       "<Axes: ylabel='Sourcing Cost'>"
      ]
     },
     "execution_count": 17,
     "metadata": {},
     "output_type": "execute_result"
    },
    {
     "data": {
      "image/png": "[encoded data removed]",
      "text/plain": [
       "<Figure size 640x480 with 1 Axes>"
      ]
     },
     "metadata": {},
     "output_type": "display_data"
    }
   ],
   "source": [
    "#to see outliers \n",
    "sns.boxplot(data['Sourcing Cost'])"
   ]
  },
  {
   "cell_type": "code",
   "execution_count": 18,
   "id": "4e1120e8-25b0-40e0-8f07-cb104b3e260c",
   "metadata": {},
   "outputs": [
    {
     "name": "stdout",
     "output_type": "stream",
     "text": [
      "upper: 630.7677508703778\n",
      "lower: -413.13317793371743\n"
     ]
    }
   ],
   "source": [
    "#handling outliers using z-score\n",
    "upper_limit = data['Sourcing Cost'].mean()+ 5*data['Sourcing Cost'].std()\n",
    "lower_limit = data['Sourcing Cost'].mean()- 5*data['Sourcing Cost'].std()\n",
    "print(\"upper:\",upper_limit)\n",
    "print(\"lower:\",lower_limit)"
   ]
  },
  {
   "cell_type": "code",
   "execution_count": 19,
   "id": "59608274-1675-45b2-bd71-0b376b1d36e4",
   "metadata": {},
   "outputs": [
    {
     "data": {
      "text/html": [
       "<div>\n",
       "<style scoped>\n",
       "    .dataframe tbody tr th:only-of-type {\n",
       "        vertical-align: middle;\n",
       "    }\n",
       "\n",
       "    .dataframe tbody tr th {\n",
       "        vertical-align: top;\n",
       "    }\n",
       "\n",
       "    .dataframe thead th {\n",
       "        text-align: right;\n",
       "    }\n",
       "</style>\n",
       "<table border=\"1\" class=\"dataframe\">\n",
       "  <thead>\n",
       "    <tr style=\"text-align: right;\">\n",
       "      <th></th>\n",
       "      <th>ProductType</th>\n",
       "      <th>Manufacturer</th>\n",
       "      <th>Area Code</th>\n",
       "      <th>Sourcing Channel</th>\n",
       "      <th>Product Size</th>\n",
       "      <th>Product Type</th>\n",
       "      <th>Month of Sourcing</th>\n",
       "      <th>Sourcing Cost</th>\n",
       "    </tr>\n",
       "  </thead>\n",
       "  <tbody>\n",
       "    <tr>\n",
       "      <th>1098</th>\n",
       "      <td>NTM2</td>\n",
       "      <td>X1</td>\n",
       "      <td>A29</td>\n",
       "      <td>DIRECT</td>\n",
       "      <td>Small</td>\n",
       "      <td>Powder</td>\n",
       "      <td>Dec-20</td>\n",
       "      <td>1033.51</td>\n",
       "    </tr>\n",
       "    <tr>\n",
       "      <th>1267</th>\n",
       "      <td>NTM1</td>\n",
       "      <td>X1</td>\n",
       "      <td>A29</td>\n",
       "      <td>DIRECT</td>\n",
       "      <td>Small</td>\n",
       "      <td>Powder</td>\n",
       "      <td>Jan-21</td>\n",
       "      <td>772.44</td>\n",
       "    </tr>\n",
       "    <tr>\n",
       "      <th>1385</th>\n",
       "      <td>NTM3</td>\n",
       "      <td>X1</td>\n",
       "      <td>A35</td>\n",
       "      <td>DIRECT</td>\n",
       "      <td>Small</td>\n",
       "      <td>Liquid</td>\n",
       "      <td>Dec-20</td>\n",
       "      <td>891.67</td>\n",
       "    </tr>\n",
       "    <tr>\n",
       "      <th>2363</th>\n",
       "      <td>NTM3</td>\n",
       "      <td>X1</td>\n",
       "      <td>A35</td>\n",
       "      <td>DIRECT</td>\n",
       "      <td>Small</td>\n",
       "      <td>Liquid</td>\n",
       "      <td>Mar-21</td>\n",
       "      <td>992.96</td>\n",
       "    </tr>\n",
       "    <tr>\n",
       "      <th>2606</th>\n",
       "      <td>NTM3</td>\n",
       "      <td>X1</td>\n",
       "      <td>A35</td>\n",
       "      <td>DIRECT</td>\n",
       "      <td>Small</td>\n",
       "      <td>Liquid</td>\n",
       "      <td>Mar-21</td>\n",
       "      <td>660.34</td>\n",
       "    </tr>\n",
       "    <tr>\n",
       "      <th>...</th>\n",
       "      <td>...</td>\n",
       "      <td>...</td>\n",
       "      <td>...</td>\n",
       "      <td>...</td>\n",
       "      <td>...</td>\n",
       "      <td>...</td>\n",
       "      <td>...</td>\n",
       "      <td>...</td>\n",
       "    </tr>\n",
       "    <tr>\n",
       "      <th>548160</th>\n",
       "      <td>NTM3</td>\n",
       "      <td>X1</td>\n",
       "      <td>A35</td>\n",
       "      <td>DIRECT</td>\n",
       "      <td>ExtraLarge</td>\n",
       "      <td>Powder</td>\n",
       "      <td>Nov-20</td>\n",
       "      <td>741.00</td>\n",
       "    </tr>\n",
       "    <tr>\n",
       "      <th>548594</th>\n",
       "      <td>NTM2</td>\n",
       "      <td>X1</td>\n",
       "      <td>A23</td>\n",
       "      <td>RETAIL</td>\n",
       "      <td>Large</td>\n",
       "      <td>Powder</td>\n",
       "      <td>Feb-21</td>\n",
       "      <td>726.78</td>\n",
       "    </tr>\n",
       "    <tr>\n",
       "      <th>548904</th>\n",
       "      <td>NTM2</td>\n",
       "      <td>X1</td>\n",
       "      <td>A29</td>\n",
       "      <td>DIRECT</td>\n",
       "      <td>Large</td>\n",
       "      <td>Powder</td>\n",
       "      <td>Feb-21</td>\n",
       "      <td>992.24</td>\n",
       "    </tr>\n",
       "    <tr>\n",
       "      <th>549942</th>\n",
       "      <td>NTM3</td>\n",
       "      <td>X1</td>\n",
       "      <td>A35</td>\n",
       "      <td>DIRECT</td>\n",
       "      <td>ExtraLarge</td>\n",
       "      <td>Powder</td>\n",
       "      <td>Oct-20</td>\n",
       "      <td>3705.00</td>\n",
       "    </tr>\n",
       "    <tr>\n",
       "      <th>549985</th>\n",
       "      <td>NTM2</td>\n",
       "      <td>X1</td>\n",
       "      <td>A29</td>\n",
       "      <td>DIRECT</td>\n",
       "      <td>Large</td>\n",
       "      <td>Powder</td>\n",
       "      <td>Feb-21</td>\n",
       "      <td>992.24</td>\n",
       "    </tr>\n",
       "  </tbody>\n",
       "</table>\n",
       "<p>529 rows × 8 columns</p>\n",
       "</div>"
      ],
      "text/plain": [
       "       ProductType Manufacturer Area Code Sourcing Channel Product Size  \\\n",
       "1098          NTM2           X1       A29           DIRECT        Small   \n",
       "1267          NTM1           X1       A29           DIRECT        Small   \n",
       "1385          NTM3           X1       A35           DIRECT        Small   \n",
       "2363          NTM3           X1       A35           DIRECT        Small   \n",
       "2606          NTM3           X1       A35           DIRECT        Small   \n",
       "...            ...          ...       ...              ...          ...   \n",
       "548160        NTM3           X1       A35           DIRECT   ExtraLarge   \n",
       "548594        NTM2           X1       A23           RETAIL        Large   \n",
       "548904        NTM2           X1       A29           DIRECT        Large   \n",
       "549942        NTM3           X1       A35           DIRECT   ExtraLarge   \n",
       "549985        NTM2           X1       A29           DIRECT        Large   \n",
       "\n",
       "       Product Type Month of Sourcing  Sourcing Cost  \n",
       "1098         Powder            Dec-20        1033.51  \n",
       "1267         Powder            Jan-21         772.44  \n",
       "1385         Liquid            Dec-20         891.67  \n",
       "2363         Liquid            Mar-21         992.96  \n",
       "2606         Liquid            Mar-21         660.34  \n",
       "...             ...               ...            ...  \n",
       "548160       Powder            Nov-20         741.00  \n",
       "548594       Powder            Feb-21         726.78  \n",
       "548904       Powder            Feb-21         992.24  \n",
       "549942       Powder            Oct-20        3705.00  \n",
       "549985       Powder            Feb-21         992.24  \n",
       "\n",
       "[529 rows x 8 columns]"
      ]
     },
     "execution_count": 19,
     "metadata": {},
     "output_type": "execute_result"
    }
   ],
   "source": [
    "#finding outliers\n",
    "data.loc[(data['Sourcing Cost'] > upper_limit) | (data['Sourcing Cost'] < lower_limit)]"
   ]
  },
  {
   "cell_type": "code",
   "execution_count": 20,
   "id": "ce0b6d32-22ce-4f57-8cbd-fabf3ce0e7bb",
   "metadata": {},
   "outputs": [
    {
     "name": "stdout",
     "output_type": "stream",
     "text": [
      "old data: 550176\n",
      "new data: 549647\n",
      "outliers: 529\n"
     ]
    }
   ],
   "source": [
    "#trimming \n",
    "new_data= data.loc[(data['Sourcing Cost'] < upper_limit) & (data['Sourcing Cost'] > lower_limit)]\n",
    "print(\"old data:\",len(data))\n",
    "print(\"new data:\",len(new_data))\n",
    "print(\"outliers:\",len(data)-len(new_data))"
   ]
  },
  {
   "cell_type": "code",
   "execution_count": 21,
   "id": "0b238818-2d32-47c8-be90-7cc06eb2787b",
   "metadata": {},
   "outputs": [
    {
     "data": {
      "text/plain": [
       "<Axes: ylabel='Sourcing Cost'>"
      ]
     },
     "execution_count": 21,
     "metadata": {},
     "output_type": "execute_result"
    },
    {
     "data": {
      "image/png": "[encoded data removed]",
      "text/plain": [
       "<Figure size 640x480 with 1 Axes>"
      ]
     },
     "metadata": {},
     "output_type": "display_data"
    }
   ],
   "source": [
    "sns.boxplot(new_data['Sourcing Cost'])"
   ]
  },
  {
   "cell_type": "code",
   "execution_count": 22,
   "id": "7f446f3d-c464-4c54-b9d6-be413d07407c",
   "metadata": {},
   "outputs": [
    {
     "data": {
      "text/plain": [
       "<Axes: ylabel='Sourcing Cost'>"
      ]
     },
     "execution_count": 22,
     "metadata": {},
     "output_type": "execute_result"
    },
    {
     "data": {
      "image/png": "[encoded data removed]",
      "text/plain": [
       "<Figure size 640x480 with 1 Axes>"
      ]
     },
     "metadata": {},
     "output_type": "display_data"
    }
   ],
   "source": [
    "\n",
    "#capping\n",
    "new_data= data.copy()\n",
    "new_data.loc[new_data['Sourcing Cost'] > upper_limit,'Sourcing Cost'] = upper_limit\n",
    "new_data.loc[new_data['Sourcing Cost'] < lower_limit,'Sourcing Cost'] = lower_limit\n",
    "sns.boxplot(new_data['Sourcing Cost'])"
   ]
  },
  {
   "cell_type": "code",
   "execution_count": 23,
   "id": "b16d14a2-9764-48c4-a293-7766f8e59200",
   "metadata": {},
   "outputs": [
    {
     "data": {
      "text/plain": [
       "550176"
      ]
     },
     "execution_count": 23,
     "metadata": {},
     "output_type": "execute_result"
    }
   ],
   "source": [
    "len(new_data)"
   ]
  },
  {
   "cell_type": "code",
   "execution_count": 24,
   "id": "1b992ad8-6c7b-4c31-a1a9-4ace38463b60",
   "metadata": {},
   "outputs": [
    {
     "data": {
      "image/png": "[encoded data removed]",
      "text/plain": [
       "<Figure size 640x480 with 1 Axes>"
      ]
     },
     "metadata": {},
     "output_type": "display_data"
    }
   ],
   "source": [
    "import matplotlib.pyplot as plt\n",
    "\n",
    "sns.boxplot(x=new_data['Sourcing Cost'])\n",
    "plt.xlabel('Sourcing Cost')\n",
    "plt.show()"
   ]
  },
  {
   "cell_type": "code",
   "execution_count": 25,
   "id": "6431b5d7-fe0b-4ac6-97c8-c0cceb0c5ef0",
   "metadata": {},
   "outputs": [
    {
     "name": "stdout",
     "output_type": "stream",
     "text": [
      "upper 224.18\n",
      "lower: 0.0\n"
     ]
    }
   ],
   "source": [
    "#percentile\n",
    "upper= data['Sourcing Cost'].quantile(0.99)\n",
    "lower= data['Sourcing Cost'].quantile(0.01)\n",
    "print(\"upper\",upper)\n",
    "print(\"lower:\",lower)"
   ]
  },
  {
   "cell_type": "code",
   "execution_count": 26,
   "id": "9a83c0f6-6a46-482b-b6a8-f569818cbba6",
   "metadata": {},
   "outputs": [
    {
     "data": {
      "text/plain": [
       "<Axes: ylabel='Sourcing Cost'>"
      ]
     },
     "execution_count": 26,
     "metadata": {},
     "output_type": "execute_result"
    },
    {
     "data": {
      "image/png": "[encoded data removed]",
      "text/plain": [
       "<Figure size 640x480 with 1 Axes>"
      ]
     },
     "metadata": {},
     "output_type": "display_data"
    }
   ],
   "source": [
    "sns.boxplot(data['Sourcing Cost'])"
   ]
  },
  {
   "cell_type": "code",
   "execution_count": 27,
   "id": "16a33842-3aad-4a11-97d9-22d274a19fe6",
   "metadata": {},
   "outputs": [
    {
     "data": {
      "text/html": [
       "<div>\n",
       "<style scoped>\n",
       "    .dataframe tbody tr th:only-of-type {\n",
       "        vertical-align: middle;\n",
       "    }\n",
       "\n",
       "    .dataframe tbody tr th {\n",
       "        vertical-align: top;\n",
       "    }\n",
       "\n",
       "    .dataframe thead th {\n",
       "        text-align: right;\n",
       "    }\n",
       "</style>\n",
       "<table border=\"1\" class=\"dataframe\">\n",
       "  <thead>\n",
       "    <tr style=\"text-align: right;\">\n",
       "      <th></th>\n",
       "      <th>ProductType</th>\n",
       "      <th>Manufacturer</th>\n",
       "      <th>Area Code</th>\n",
       "      <th>Sourcing Channel</th>\n",
       "      <th>Product Size</th>\n",
       "      <th>Product Type</th>\n",
       "      <th>Month of Sourcing</th>\n",
       "      <th>Sourcing Cost</th>\n",
       "    </tr>\n",
       "  </thead>\n",
       "  <tbody>\n",
       "    <tr>\n",
       "      <th>495</th>\n",
       "      <td>NTM2</td>\n",
       "      <td>X1</td>\n",
       "      <td>A29</td>\n",
       "      <td>DIRECT</td>\n",
       "      <td>Small</td>\n",
       "      <td>Powder</td>\n",
       "      <td>Jan-21</td>\n",
       "      <td>334.88</td>\n",
       "    </tr>\n",
       "    <tr>\n",
       "      <th>533</th>\n",
       "      <td>NTM3</td>\n",
       "      <td>X1</td>\n",
       "      <td>A35</td>\n",
       "      <td>DIRECT</td>\n",
       "      <td>Small</td>\n",
       "      <td>Liquid</td>\n",
       "      <td>Nov-20</td>\n",
       "      <td>342.40</td>\n",
       "    </tr>\n",
       "    <tr>\n",
       "      <th>551</th>\n",
       "      <td>NTM2</td>\n",
       "      <td>X1</td>\n",
       "      <td>A29</td>\n",
       "      <td>DIRECT</td>\n",
       "      <td>Small</td>\n",
       "      <td>Powder</td>\n",
       "      <td>Jan-21</td>\n",
       "      <td>334.88</td>\n",
       "    </tr>\n",
       "    <tr>\n",
       "      <th>579</th>\n",
       "      <td>NTM3</td>\n",
       "      <td>X1</td>\n",
       "      <td>A35</td>\n",
       "      <td>DIRECT</td>\n",
       "      <td>Small</td>\n",
       "      <td>Liquid</td>\n",
       "      <td>Feb-21</td>\n",
       "      <td>401.25</td>\n",
       "    </tr>\n",
       "    <tr>\n",
       "      <th>680</th>\n",
       "      <td>NTM2</td>\n",
       "      <td>X1</td>\n",
       "      <td>A28</td>\n",
       "      <td>DIRECT</td>\n",
       "      <td>Large</td>\n",
       "      <td>Liquid</td>\n",
       "      <td>Jul-20</td>\n",
       "      <td>237.67</td>\n",
       "    </tr>\n",
       "    <tr>\n",
       "      <th>...</th>\n",
       "      <td>...</td>\n",
       "      <td>...</td>\n",
       "      <td>...</td>\n",
       "      <td>...</td>\n",
       "      <td>...</td>\n",
       "      <td>...</td>\n",
       "      <td>...</td>\n",
       "      <td>...</td>\n",
       "    </tr>\n",
       "    <tr>\n",
       "      <th>549874</th>\n",
       "      <td>NTM2</td>\n",
       "      <td>X1</td>\n",
       "      <td>A29</td>\n",
       "      <td>DIRECT</td>\n",
       "      <td>Large</td>\n",
       "      <td>Powder</td>\n",
       "      <td>Dec-20</td>\n",
       "      <td>233.27</td>\n",
       "    </tr>\n",
       "    <tr>\n",
       "      <th>549942</th>\n",
       "      <td>NTM3</td>\n",
       "      <td>X1</td>\n",
       "      <td>A35</td>\n",
       "      <td>DIRECT</td>\n",
       "      <td>ExtraLarge</td>\n",
       "      <td>Powder</td>\n",
       "      <td>Oct-20</td>\n",
       "      <td>3705.00</td>\n",
       "    </tr>\n",
       "    <tr>\n",
       "      <th>549946</th>\n",
       "      <td>NTM2</td>\n",
       "      <td>X1</td>\n",
       "      <td>A38</td>\n",
       "      <td>DIRECT</td>\n",
       "      <td>Small</td>\n",
       "      <td>Powder</td>\n",
       "      <td>Oct-20</td>\n",
       "      <td>457.14</td>\n",
       "    </tr>\n",
       "    <tr>\n",
       "      <th>549985</th>\n",
       "      <td>NTM2</td>\n",
       "      <td>X1</td>\n",
       "      <td>A29</td>\n",
       "      <td>DIRECT</td>\n",
       "      <td>Large</td>\n",
       "      <td>Powder</td>\n",
       "      <td>Feb-21</td>\n",
       "      <td>992.24</td>\n",
       "    </tr>\n",
       "    <tr>\n",
       "      <th>550154</th>\n",
       "      <td>NTM1</td>\n",
       "      <td>X2</td>\n",
       "      <td>A42</td>\n",
       "      <td>DIRECT</td>\n",
       "      <td>Large</td>\n",
       "      <td>Powder</td>\n",
       "      <td>Mar-21</td>\n",
       "      <td>228.73</td>\n",
       "    </tr>\n",
       "  </tbody>\n",
       "</table>\n",
       "<p>5560 rows × 8 columns</p>\n",
       "</div>"
      ],
      "text/plain": [
       "       ProductType Manufacturer Area Code Sourcing Channel Product Size  \\\n",
       "495           NTM2           X1       A29           DIRECT        Small   \n",
       "533           NTM3           X1       A35           DIRECT        Small   \n",
       "551           NTM2           X1       A29           DIRECT        Small   \n",
       "579           NTM3           X1       A35           DIRECT        Small   \n",
       "680           NTM2           X1       A28           DIRECT        Large   \n",
       "...            ...          ...       ...              ...          ...   \n",
       "549874        NTM2           X1       A29           DIRECT        Large   \n",
       "549942        NTM3           X1       A35           DIRECT   ExtraLarge   \n",
       "549946        NTM2           X1       A38           DIRECT        Small   \n",
       "549985        NTM2           X1       A29           DIRECT        Large   \n",
       "550154        NTM1           X2       A42           DIRECT        Large   \n",
       "\n",
       "       Product Type Month of Sourcing  Sourcing Cost  \n",
       "495          Powder            Jan-21         334.88  \n",
       "533          Liquid            Nov-20         342.40  \n",
       "551          Powder            Jan-21         334.88  \n",
       "579          Liquid            Feb-21         401.25  \n",
       "680          Liquid            Jul-20         237.67  \n",
       "...             ...               ...            ...  \n",
       "549874       Powder            Dec-20         233.27  \n",
       "549942       Powder            Oct-20        3705.00  \n",
       "549946       Powder            Oct-20         457.14  \n",
       "549985       Powder            Feb-21         992.24  \n",
       "550154       Powder            Mar-21         228.73  \n",
       "\n",
       "[5560 rows x 8 columns]"
      ]
     },
     "execution_count": 27,
     "metadata": {},
     "output_type": "execute_result"
    }
   ],
   "source": [
    "data.loc[(data['Sourcing Cost'] > upper) | (data['Sourcing Cost'] < lower)]"
   ]
  },
  {
   "cell_type": "code",
   "execution_count": 28,
   "id": "7be0b27e-a654-4074-b1b1-049d480130f9",
   "metadata": {},
   "outputs": [
    {
     "name": "stdout",
     "output_type": "stream",
     "text": [
      "old data: 550176\n",
      "new data: 544616\n",
      "outliers: 5560\n"
     ]
    }
   ],
   "source": [
    "#trimming \n",
    "new_data= data.loc[(data['Sourcing Cost'] <= upper) & (data['Sourcing Cost'] >= lower)]\n",
    "print(\"old data:\",len(data))\n",
    "print(\"new data:\",len(new_data))\n",
    "print(\"outliers:\",len(data)-len(new_data))"
   ]
  },
  {
   "cell_type": "code",
   "execution_count": 29,
   "id": "edf65057-15e8-4a78-9006-e8f83f443ff6",
   "metadata": {},
   "outputs": [
    {
     "data": {
      "text/plain": [
       "<Axes: ylabel='Sourcing Cost'>"
      ]
     },
     "execution_count": 29,
     "metadata": {},
     "output_type": "execute_result"
    },
    {
     "data": {
      "image/png": "[encoded data removed]",
      "text/plain": [
       "<Figure size 640x480 with 1 Axes>"
      ]
     },
     "metadata": {},
     "output_type": "display_data"
    }
   ],
   "source": [
    "sns.boxplot(new_data['Sourcing Cost'])"
   ]
  },
  {
   "cell_type": "code",
   "execution_count": 30,
   "id": "c7e9a05b-5a1a-4f26-8888-a14c1397b5f7",
   "metadata": {},
   "outputs": [
    {
     "data": {
      "text/plain": [
       "<Axes: ylabel='Sourcing Cost'>"
      ]
     },
     "execution_count": 30,
     "metadata": {},
     "output_type": "execute_result"
    },
    {
     "data": {
      "image/png": "[encoded data removed]",
      "text/plain": [
       "<Figure size 640x480 with 1 Axes>"
      ]
     },
     "metadata": {},
     "output_type": "display_data"
    }
   ],
   "source": [
    "#capping\n",
    "new_data= data.copy()\n",
    "new_data.loc[new_data['Sourcing Cost'] > upper,'Sourcing Cost'] = upper\n",
    "new_data.loc[new_data['Sourcing Cost'] < lower,'Sourcing Cost'] = lower\n",
    "sns.boxplot(new_data['Sourcing Cost'])"
   ]
  },
  {
   "cell_type": "code",
   "execution_count": 31,
   "id": "582bed1d-f60b-4e93-be26-39b94b09278a",
   "metadata": {},
   "outputs": [
    {
     "data": {
      "text/plain": [
       "550176"
      ]
     },
     "execution_count": 31,
     "metadata": {},
     "output_type": "execute_result"
    }
   ],
   "source": [
    "len(new_data)\n"
   ]
  },
  {
   "cell_type": "code",
   "execution_count": 32,
   "id": "62f557d4-7af9-497c-9372-b36c857e8c29",
   "metadata": {},
   "outputs": [
    {
     "name": "stderr",
     "output_type": "stream",
     "text": [
      "C:\\Users\\Jasmita\\AppData\\Local\\Temp\\ipykernel_11832\\2530515667.py:1: UserWarning: \n",
      "\n",
      "`distplot` is a deprecated function and will be removed in seaborn v0.14.0.\n",
      "\n",
      "Please adapt your code to use either `displot` (a figure-level function with\n",
      "similar flexibility) or `histplot` (an axes-level function for histograms).\n",
      "\n",
      "For a guide to updating your code to use the new functions, please see\n",
      "https://gist.github.com/mwaskom/de44147ed2974457ad6372750bbe5751\n",
      "\n",
      "  sns.distplot(data['Sourcing Cost'])\n"
     ]
    },
    {
     "data": {
      "text/plain": [
       "<Axes: xlabel='Sourcing Cost', ylabel='Density'>"
      ]
     },
     "execution_count": 32,
     "metadata": {},
     "output_type": "execute_result"
    },
    {
     "data": {
      "image/png": "[encoded data removed]",
      "text/plain": [
       "<Figure size 640x480 with 1 Axes>"
      ]
     },
     "metadata": {},
     "output_type": "display_data"
    }
   ],
   "source": [
    "sns.distplot(data['Sourcing Cost'])"
   ]
  },
  {
   "cell_type": "code",
   "execution_count": 33,
   "id": "53b9f70d-f642-4486-8044-43067a08d3d7",
   "metadata": {},
   "outputs": [
    {
     "name": "stderr",
     "output_type": "stream",
     "text": [
      "C:\\Users\\Jasmita\\AppData\\Local\\Temp\\ipykernel_11832\\752803208.py:1: UserWarning: \n",
      "\n",
      "`distplot` is a deprecated function and will be removed in seaborn v0.14.0.\n",
      "\n",
      "Please adapt your code to use either `displot` (a figure-level function with\n",
      "similar flexibility) or `histplot` (an axes-level function for histograms).\n",
      "\n",
      "For a guide to updating your code to use the new functions, please see\n",
      "https://gist.github.com/mwaskom/de44147ed2974457ad6372750bbe5751\n",
      "\n",
      "  sns.distplot(new_data['Sourcing Cost'])\n"
     ]
    },
    {
     "data": {
      "text/plain": [
       "<Axes: xlabel='Sourcing Cost', ylabel='Density'>"
      ]
     },
     "execution_count": 33,
     "metadata": {},
     "output_type": "execute_result"
    },
    {
     "data": {
      "image/png": "[encoded data removed]",
      "text/plain": [
       "<Figure size 640x480 with 1 Axes>"
      ]
     },
     "metadata": {},
     "output_type": "display_data"
    }
   ],
   "source": [
    "sns.distplot(new_data['Sourcing Cost'])"
   ]
  },
  {
   "cell_type": "code",
   "execution_count": 34,
   "id": "4f7b3cae-aeac-48bc-b8c3-4d33055b2f9e",
   "metadata": {},
   "outputs": [],
   "source": [
    "data=new_data"
   ]
  },
  {
   "cell_type": "code",
   "execution_count": 35,
   "id": "377212a9-1798-4b81-ab54-b325d3343a31",
   "metadata": {},
   "outputs": [
    {
     "name": "stdout",
     "output_type": "stream",
     "text": [
      "Mean Absolute Error (MAE): 23.448904717250116\n",
      "Mean Squared Error (MSE): 1416.3732046615976\n",
      "R-squared (R2) Score: 0.4779229323793178\n",
      "Median Absolute Error (MedAE): 12.49195293452599\n",
      "Mean Absolute Percentage Error (MAPE): 0.5117386585097528\n"
     ]
    }
   ],
   "source": [
    "#using linear regression\n",
    "import pandas as pd\n",
    "from sklearn.linear_model import LinearRegression\n",
    "from sklearn.compose import ColumnTransformer\n",
    "from sklearn.preprocessing import OneHotEncoder\n",
    "from sklearn.pipeline import Pipeline\n",
    "import joblib  # Import joblib module\n",
    "from sklearn.metrics import mean_absolute_error, mean_squared_error, r2_score, median_absolute_error, mean_absolute_percentage_error\n",
    "\n",
    "training_data = data\n",
    "testing_data = pd.read_csv(\"C:/Users/Jasmita/Downloads/Testing.csv\")\n",
    "\n",
    "# Combine training and testing data for preprocessing\n",
    "combined_data = pd.concat([training_data, testing_data], ignore_index=True)\n",
    "\n",
    "# Split data into features and target variable for training and testing\n",
    "X_train = training_data.drop(columns=['Sourcing Cost'])\n",
    "y_train = training_data['Sourcing Cost']\n",
    "X_test = testing_data.drop(columns=['Sourcing Cost'])\n",
    "categorical_features = X_train.columns\n",
    "preprocessor = ColumnTransformer(\n",
    "    transformers=[\n",
    "        ('cat', OneHotEncoder(handle_unknown='ignore'), categorical_features)\n",
    "    ])\n",
    "# Define the pipeline\n",
    "pipeline = Pipeline(steps=[\n",
    "    ('preprocessor', preprocessor),\n",
    "    ('regressor', LinearRegression())\n",
    "])\n",
    "# Fit the model\n",
    "pipeline.fit(X_train, y_train)\n",
    "\n",
    "# Save the trained model to a file\n",
    "joblib.dump(pipeline, 'trained_model.pkl')\n",
    "\n",
    "# Load the saved model\n",
    "pipeline = joblib.load('trained_model.pkl')\n",
    "\n",
    "\n",
    "testing_data = pd.read_csv(\"C:/Users/Jasmita/Downloads/Testing.csv\")\n",
    "X_test = testing_data.drop(columns=['Sourcing Cost'])\n",
    "\n",
    "\n",
    "june_21_prediction = pipeline.predict(X_test)\n",
    "# print('Predicted Sourcing Cost for June 21:', june_21_prediction)\n",
    "\n",
    "\n",
    "# Calculate performance metrics\n",
    "mae = mean_absolute_error(testing_data['Sourcing Cost'], june_21_prediction)\n",
    "mse = mean_squared_error(testing_data['Sourcing Cost'], june_21_prediction)\n",
    "r2 = r2_score(testing_data['Sourcing Cost'], june_21_prediction)\n",
    "medae = median_absolute_error(testing_data['Sourcing Cost'], june_21_prediction)\n",
    "mape = mean_absolute_percentage_error(testing_data['Sourcing Cost'], june_21_prediction)\n",
    "\n",
    "print('Mean Absolute Error (MAE):', mae)\n",
    "print('Mean Squared Error (MSE):', mse)\n",
    "print('R-squared (R2) Score:', r2)\n",
    "print('Median Absolute Error (MedAE):', medae)\n",
    "print('Mean Absolute Percentage Error (MAPE):', mape)"
   ]
  },
  {
   "cell_type": "code",
   "execution_count": 37,
   "id": "0840a1e4-73ed-413c-a8d3-8e457394d9e2",
   "metadata": {},
   "outputs": [
    {
     "name": "stdout",
     "output_type": "stream",
     "text": [
      "\n",
      "Metrics for Linear Regression + Random Forest:\n",
      "Mean Absolute Error (MAE): 17.55381900251734\n",
      "Mean Squared Error (MSE): 1154.755721286884\n",
      "R-squared (R2) Score: 0.5743554885086228\n",
      "Median Absolute Error (MedAE): 5.290527233016618\n",
      "Mean Absolute Percentage Error (MAPE): 0.4532354016459956\n"
     ]
    }
   ],
   "source": [
    "from sklearn.ensemble import RandomForestRegressor\n",
    "\n",
    "\n",
    "# Concatenate the predictions from linear regression with the original features\n",
    "X_train_concat = pd.concat([X_train, pd.Series(pipeline.predict(X_train), name='Predicted_Sourcing_Cost_LR')], axis=1)\n",
    "X_test_concat = pd.concat([X_test, pd.Series(june_21_prediction, name='Predicted_Sourcing_Cost_LR')], axis=1)\n",
    "\n",
    "# Define preprocessing steps for categorical variables\n",
    "categorical_features = X_train_concat.columns\n",
    "preprocessor = ColumnTransformer(\n",
    "    transformers=[\n",
    "        ('cat', OneHotEncoder(handle_unknown='ignore'), categorical_features)\n",
    "    ])\n",
    "\n",
    "# Define the pipeline with Random Forest regressor\n",
    "pipeline_rf = Pipeline(steps=[\n",
    "    ('preprocessor', preprocessor),\n",
    "    ('regressor', RandomForestRegressor())\n",
    "])\n",
    "\n",
    "# Fit the Random Forest model\n",
    "pipeline_rf.fit(X_train_concat, y_train)\n",
    "\n",
    "# Predict sourcing cost for June 21 using Random Forest\n",
    "june_21_prediction_rf = pipeline_rf.predict(X_test_concat)\n",
    "\n",
    "# Calculate performance metrics for Random Forest\n",
    "mae_rf = mean_absolute_error(testing_data['Sourcing Cost'], june_21_prediction_rf)\n",
    "mse_rf = mean_squared_error(testing_data['Sourcing Cost'], june_21_prediction_rf)\n",
    "r2_rf = r2_score(testing_data['Sourcing Cost'], june_21_prediction_rf)\n",
    "medae_rf = median_absolute_error(testing_data['Sourcing Cost'], june_21_prediction_rf)\n",
    "mape_rf = mean_absolute_percentage_error(testing_data['Sourcing Cost'], june_21_prediction_rf)\n",
    "\n",
    "print('\\nMetrics for Linear Regression + Random Forest:')\n",
    "print('Mean Absolute Error (MAE):', mae_rf)\n",
    "print('Mean Squared Error (MSE):', mse_rf)\n",
    "print('R-squared (R2) Score:', r2_rf)\n",
    "\n",
    "\n",
    "print('Median Absolute Error (MedAE):', medae_rf)\n",
    "print('Mean Absolute Percentage Error (MAPE):', mape_rf)\n",
    "\n",
    "\n",
    "\n",
    "# Output from google colab :\n",
    "# Metrics for Random Forest:\n",
    "# Mean Absolute Error (MAE): 18.799164413392493\n",
    "# Mean Squared Error (MSE): 1369.272788027911\n",
    "# R-squared (R2) Score: 0.4952842092792875\n",
    "# Median Absolute Error (MedAE): 5.304145662513221\n",
    "# Mean Absolute Percentage Error (MAPE): 0.4652902509129763\n"
   ]
  },
  {
   "cell_type": "code",
   "execution_count": 40,
   "id": "e9094eb9-8571-4b1d-8524-d605d836cf76",
   "metadata": {},
   "outputs": [
    {
     "name": "stdout",
     "output_type": "stream",
     "text": [
      "\n",
      "Metrics for AdaBoost):\n",
      "Mean Absolute Error (MAE): 27.87070477368057\n",
      "Mean Squared Error (MSE): 1311.9597865409842\n",
      "R-squared (R2) Score: 0.5164098586874769\n",
      "Median Absolute Error (MedAE): 23.391454331727974\n",
      "Mean Absolute Percentage Error (MAPE): 0.6026857960040489\n"
     ]
    }
   ],
   "source": [
    "#using ada boost only\n",
    "import pandas as pd\n",
    "from sklearn.ensemble import AdaBoostRegressor\n",
    "from sklearn.compose import ColumnTransformer\n",
    "from sklearn.preprocessing import OneHotEncoder\n",
    "from sklearn.pipeline import Pipeline\n",
    "from sklearn.metrics import mean_absolute_error, mean_squared_error, r2_score, median_absolute_error, mean_absolute_percentage_error\n",
    "\n",
    "# Define preprocessing steps for categorical variables\n",
    "categorical_features = X_train.columns\n",
    "preprocessor = ColumnTransformer(\n",
    "    transformers=[\n",
    "        ('cat', OneHotEncoder(handle_unknown='ignore'), categorical_features)\n",
    "    ])\n",
    "\n",
    "# Define the pipeline with RandomForestRegressor and AdaBoostRegressor\n",
    "pipeline = Pipeline(steps=[\n",
    "    ('preprocessor', preprocessor),\n",
    "    ('regressor', AdaBoostRegressor())\n",
    "])\n",
    "\n",
    "# Fit the model\n",
    "pipeline.fit(X_train, y_train)\n",
    "\n",
    "# Predict sourcing cost for June 21 using the hybrid model\n",
    "june_21_prediction_hybrid = pipeline.predict(X_test)\n",
    "\n",
    "# Calculate performance metrics for the hybrid model\n",
    "mae_hybrid = mean_absolute_error(testing_data['Sourcing Cost'], june_21_prediction_hybrid)\n",
    "mse_hybrid = mean_squared_error(testing_data['Sourcing Cost'], june_21_prediction_hybrid)\n",
    "r2_hybrid = r2_score(testing_data['Sourcing Cost'], june_21_prediction_hybrid)\n",
    "medae_hybrid = median_absolute_error(testing_data['Sourcing Cost'], june_21_prediction_hybrid)\n",
    "mape_hybrid = mean_absolute_percentage_error(testing_data['Sourcing Cost'], june_21_prediction_hybrid)\n",
    "\n",
    "print('\\nMetrics for AdaBoost):')\n",
    "print('Mean Absolute Error (MAE):', mae_hybrid)\n",
    "print('Mean Squared Error (MSE):', mse_hybrid)\n",
    "print('R-squared (R2) Score:', r2_hybrid)\n",
    "print('Median Absolute Error (MedAE):', medae_hybrid)\n",
    "print('Mean Absolute Percentage Error (MAPE):', mape_hybrid)\n"
   ]
  },
  {
   "cell_type": "code",
   "execution_count": 41,
   "id": "db21202f-6ff0-4b30-8b86-d57ff668d2d3",
   "metadata": {},
   "outputs": [
    {
     "name": "stdout",
     "output_type": "stream",
     "text": [
      "\n",
      "Metrics for Random Forest only:\n",
      "Mean Absolute Error (MAE): 17.135749089639173\n",
      "Mean Squared Error (MSE): 1163.2062644303473\n",
      "R-squared (R2) Score: 0.5712406069437774\n",
      "Median Absolute Error (MedAE): 4.9262105304598\n",
      "Mean Absolute Percentage Error (MAPE): 0.4478759750922607\n"
     ]
    }
   ],
   "source": [
    "#using only random forest \n",
    "import pandas as pd\n",
    "from sklearn.ensemble import RandomForestRegressor\n",
    "from sklearn.compose import ColumnTransformer\n",
    "from sklearn.preprocessing import OneHotEncoder\n",
    "from sklearn.pipeline import Pipeline\n",
    "from sklearn.metrics import mean_absolute_error, mean_squared_error, r2_score, median_absolute_error, mean_absolute_percentage_error\n",
    "\n",
    "training_data = data\n",
    "testing_data = pd.read_csv(\"C:/Users/Jasmita/Downloads/Testing.csv\")\n",
    "\n",
    "# Combine training and testing data for preprocessing\n",
    "combined_data = pd.concat([training_data, testing_data], ignore_index=True)\n",
    "\n",
    "# Split data into features and target variable for training and testing\n",
    "X_train = training_data.drop(columns=['Sourcing Cost'])\n",
    "y_train = training_data['Sourcing Cost']\n",
    "X_test = testing_data.drop(columns=['Sourcing Cost'])\n",
    "categorical_features = X_train.columns\n",
    "preprocessor = ColumnTransformer(\n",
    "    transformers=[\n",
    "        ('cat', OneHotEncoder(handle_unknown='ignore'), categorical_features)\n",
    "    ])\n",
    "# Define the pipeline with Random Forest regressor\n",
    "pipeline_rf = Pipeline(steps=[\n",
    "    ('preprocessor', preprocessor),\n",
    "    ('regressor', RandomForestRegressor())\n",
    "])\n",
    "\n",
    "# Fit the Random Forest model\n",
    "pipeline_rf.fit(X_train, y_train)\n",
    "\n",
    "# Predict sourcing cost for June 21 using Random Forest\n",
    "june_21_prediction_rf = pipeline_rf.predict(X_test)\n",
    "\n",
    "# Calculate performance metrics for Random Forest\n",
    "mae_rf = mean_absolute_error(testing_data['Sourcing Cost'], june_21_prediction_rf)\n",
    "mse_rf = mean_squared_error(testing_data['Sourcing Cost'], june_21_prediction_rf)\n",
    "r2_rf = r2_score(testing_data['Sourcing Cost'], june_21_prediction_rf)\n",
    "medae_rf = median_absolute_error(testing_data['Sourcing Cost'], june_21_prediction_rf)\n",
    "mape_rf = mean_absolute_percentage_error(testing_data['Sourcing Cost'], june_21_prediction_rf)\n",
    "\n",
    "print('\\nMetrics for Random Forest only:')\n",
    "print('Mean Absolute Error (MAE):', mae_rf)\n",
    "print('Mean Squared Error (MSE):', mse_rf)\n",
    "print('R-squared (R2) Score:', r2_rf)\n",
    "print('Median Absolute Error (MedAE):', medae_rf)\n",
    "print('Mean Absolute Percentage Error (MAPE):', mape_rf)\n",
    "\n",
    "# Metrics for Random Forest:\n",
    "#colab\n",
    "# Mean Absolute Error (MAE): 17.607191292869874\n",
    "# Mean Squared Error (MSE): 1263.575317208221\n",
    "# R-squared (R2) Score: 0.5342444391387975\n",
    "# Median Absolute Error (MedAE): 5.130831725933575\n",
    "# Mean Absolute Percentage Error (MAPE): 0.44279319682179114\n"
   ]
  },
  {
   "cell_type": "code",
   "execution_count": 42,
   "id": "a6b4dddf-ea6e-4c92-9b9d-56e2727d6991",
   "metadata": {},
   "outputs": [
    {
     "name": "stdout",
     "output_type": "stream",
     "text": [
      "\n",
      "Metrics for Hybrid Model (Random Forest + AdaBoost):\n",
      "Mean Absolute Error (MAE): 20.597544943349465\n",
      "Mean Squared Error (MSE): 936.40441870634\n",
      "R-squared (R2) Score: 0.6548400722237199\n",
      "Median Absolute Error (MedAE): 14.947244360558715\n",
      "Mean Absolute Percentage Error (MAPE): 0.5005150748848611\n"
     ]
    }
   ],
   "source": [
    "#using randomforest + adaboost\n",
    "import pandas as pd\n",
    "from sklearn.ensemble import RandomForestRegressor, AdaBoostRegressor, VotingRegressor\n",
    "from sklearn.compose import ColumnTransformer\n",
    "from sklearn.preprocessing import OneHotEncoder\n",
    "from sklearn.pipeline import Pipeline\n",
    "from sklearn.metrics import mean_absolute_error, mean_squared_error, r2_score, median_absolute_error, mean_absolute_percentage_error\n",
    "# Define the pipeline with RandomForestRegressor and AdaBoostRegressor\n",
    "pipeline = Pipeline(steps=[\n",
    "    ('preprocessor', preprocessor),\n",
    "    ('regressor', VotingRegressor([\n",
    "        ('rf', RandomForestRegressor()),\n",
    "        ('ada', AdaBoostRegressor())\n",
    "    ]))\n",
    "])\n",
    "\n",
    "# Fit the model\n",
    "pipeline.fit(X_train, y_train)\n",
    "\n",
    "# Predict sourcing cost for June 21 using the hybrid model\n",
    "june_21_prediction_hybrid = pipeline.predict(X_test)\n",
    "\n",
    "# Calculate performance metrics for the hybrid model\n",
    "mae_hybrid = mean_absolute_error(testing_data['Sourcing Cost'], june_21_prediction_hybrid)\n",
    "mse_hybrid = mean_squared_error(testing_data['Sourcing Cost'], june_21_prediction_hybrid)\n",
    "r2_hybrid = r2_score(testing_data['Sourcing Cost'], june_21_prediction_hybrid)\n",
    "medae_hybrid = median_absolute_error(testing_data['Sourcing Cost'], june_21_prediction_hybrid)\n",
    "mape_hybrid = mean_absolute_percentage_error(testing_data['Sourcing Cost'], june_21_prediction_hybrid)\n",
    "\n",
    "print('\\nMetrics for Hybrid Model (Random Forest + AdaBoost):')\n",
    "print('Mean Absolute Error (MAE):', mae_hybrid)\n",
    "print('Mean Squared Error (MSE):', mse_hybrid)\n",
    "print('R-squared (R2) Score:', r2_hybrid)\n",
    "print('Median Absolute Error (MedAE):', medae_hybrid)\n",
    "print('Mean Absolute Percentage Error (MAPE):', mape_hybrid)\n",
    "# Metrics for Hybrid Model (Random Forest + AdaBoost):\n",
    "# Mean Absolute Error (MAE): 22.479309862886527\n",
    "# Mean Squared Error (MSE): 1046.3054561266924\n",
    "# R-squared (R2) Score: 0.6143304020633069\n",
    "# Median Absolute Error (MedAE): 14.82409163683357\n",
    "# Mean Absolute Percentage Error (MAPE): 0.5508895545732262"
   ]
  },
  {
   "cell_type": "code",
   "execution_count": 45,
   "id": "4169780f-bac1-4f78-9df2-74ba60349629",
   "metadata": {},
   "outputs": [
    {
     "name": "stdout",
     "output_type": "stream",
     "text": [
      "Metrices for Linear regression and xgboost:\n",
      "\n",
      "Mean Absolute Error (MAE) 19.00341150325706\n",
      "Mean Squared Error (MSE): 1163.798652160669\n",
      "R-squared (R2) Score: 0.5710222520298869\n",
      "Median Absolute Error (MedAE): 7.8195648380226075\n",
      "Mean Absolute Percentage Error (MAPE): 0.46305845699469267\n"
     ]
    }
   ],
   "source": [
    "import pandas as pd\n",
    "from sklearn.compose import ColumnTransformer\n",
    "from sklearn.preprocessing import OneHotEncoder\n",
    "from sklearn.pipeline import Pipeline\n",
    "import joblib\n",
    "from sklearn.metrics import mean_absolute_error, mean_squared_error, r2_score, median_absolute_error, mean_absolute_percentage_error\n",
    "from xgboost import XGBRegressor  # Import XGBoost regressor\n",
    "from sklearn.linear_model import LinearRegression  # Import Linear Regression\n",
    "from sklearn.ensemble import VotingRegressor\n",
    "X_train = training_data.drop(columns=['Sourcing Cost'])\n",
    "y_train = training_data['Sourcing Cost']\n",
    "X_test = testing_data.drop(columns=['Sourcing Cost'])\n",
    "# Define preprocessing steps for categorical variables\n",
    "categorical_features = X_train.columns\n",
    "preprocessor = ColumnTransformer(\n",
    "    transformers=[\n",
    "        ('cat', OneHotEncoder(handle_unknown='ignore'), categorical_features)\n",
    "    ])\n",
    "\n",
    "# Define the pipeline with VotingRegressor combining XGBoost  and Linear Regression\n",
    "pipeline = Pipeline(steps=[\n",
    "    ('preprocessor', preprocessor),\n",
    "    ('regressor', VotingRegressor([ ('lr', LinearRegression()),('xgb', XGBRegressor())]))  # Use VotingRegressor here\n",
    "])\n",
    " \n",
    "# Fit the model\n",
    "pipeline.fit(X_train, y_train)\n",
    "\n",
    "# Save the trained model to a file\n",
    "joblib.dump(pipeline, 'trained_model_hybrid.pkl')\n",
    "\n",
    "# Load the saved model\n",
    "pipeline = joblib.load('trained_model_hybrid.pkl')\n",
    "\n",
    "# Generate predictions for the testing data\n",
    "june_21_prediction = pipeline.predict(X_test)\n",
    "\n",
    "# Calculate performance metrics\n",
    "mae = mean_absolute_error(testing_data['Sourcing Cost'], june_21_prediction)\n",
    "mse = mean_squared_error(testing_data['Sourcing Cost'], june_21_prediction)\n",
    "r2 = r2_score(testing_data['Sourcing Cost'], june_21_prediction)\n",
    "medae = median_absolute_error(testing_data['Sourcing Cost'], june_21_prediction)\n",
    "mape = mean_absolute_percentage_error(testing_data['Sourcing Cost'], june_21_prediction)\n",
    "print(\"Metrices for Linear regression and xgboost:\\n\")\n",
    "print('Mean Absolute Error (MAE)', mae)\n",
    "print('Mean Squared Error (MSE):', mse)\n",
    "print('R-squared (R2) Score:', r2)\n",
    "print('Median Absolute Error (MedAE):', medae)\n",
    "print('Mean Absolute Percentage Error (MAPE):', mape)\n"
   ]
  },
  {
   "cell_type": "code",
   "execution_count": 47,
   "id": "861c72a7-3dcf-4df7-a8e4-e79cb1041ed5",
   "metadata": {},
   "outputs": [
    {
     "name": "stdout",
     "output_type": "stream",
     "text": [
      "Metrices for Linear regression , xgboost and adaboost:\n",
      "\n",
      "Mean Absolute Error (MAE) 20.98947836346399\n",
      "Mean Squared Error (MSE): 1024.5257599971094\n",
      "R-squared (R2) Score: 0.6223584273405282\n",
      "Median Absolute Error (MedAE): 13.977447756682615\n",
      "Mean Absolute Percentage Error (MAPE): 0.49898141294993686\n"
     ]
    }
   ],
   "source": [
    "import pandas as pd\n",
    "from sklearn.compose import ColumnTransformer\n",
    "from sklearn.preprocessing import OneHotEncoder\n",
    "from sklearn.pipeline import Pipeline\n",
    "import joblib\n",
    "from sklearn.metrics import mean_absolute_error, mean_squared_error, r2_score, median_absolute_error, mean_absolute_percentage_error\n",
    "from xgboost import XGBRegressor  # Import XGBoost regressor\n",
    "from sklearn.linear_model import LinearRegression  # Import Linear Regression\n",
    "from sklearn.ensemble import VotingRegressor,AdaBoostRegressor\n",
    "X_train = training_data.drop(columns=['Sourcing Cost'])\n",
    "y_train = training_data['Sourcing Cost']\n",
    "X_test = testing_data.drop(columns=['Sourcing Cost'])\n",
    "# Define preprocessing steps for categorical variables\n",
    "categorical_features = X_train.columns\n",
    "preprocessor = ColumnTransformer(\n",
    "    transformers=[\n",
    "        ('cat', OneHotEncoder(handle_unknown='ignore'), categorical_features)\n",
    "    ])\n",
    "\n",
    "# Define the pipeline with VotingRegressor combining XGBoost  and Linear Regression\n",
    "pipeline = Pipeline(steps=[\n",
    "    ('preprocessor', preprocessor),\n",
    "    ('regressor', VotingRegressor([ ('xgb', XGBRegressor()),('lr', LinearRegression()),('ada',AdaBoostRegressor())]))  # Use VotingRegressor here\n",
    "])\n",
    " \n",
    "# Fit the model\n",
    "pipeline.fit(X_train, y_train)\n",
    "\n",
    "# Save the trained model to a file\n",
    "joblib.dump(pipeline, 'trained_model_hybrid.pkl')\n",
    "\n",
    "# Load the saved model\n",
    "pipeline = joblib.load('trained_model_hybrid.pkl')\n",
    "\n",
    "# Generate predictions for the testing data\n",
    "june_21_prediction = pipeline.predict(X_test)\n",
    "\n",
    "# Calculate performance metrics\n",
    "mae = mean_absolute_error(testing_data['Sourcing Cost'], june_21_prediction)\n",
    "mse = mean_squared_error(testing_data['Sourcing Cost'], june_21_prediction)\n",
    "r2 = r2_score(testing_data['Sourcing Cost'], june_21_prediction)\n",
    "medae = median_absolute_error(testing_data['Sourcing Cost'], june_21_prediction)\n",
    "mape = mean_absolute_percentage_error(testing_data['Sourcing Cost'], june_21_prediction)\n",
    "print(\"Metrices for Linear regression , xgboost and adaboost:\\n\")\n",
    "print('Mean Absolute Error (MAE)', mae)\n",
    "print('Mean Squared Error (MSE):', mse)\n",
    "print('R-squared (R2) Score:', r2)\n",
    "print('Median Absolute Error (MedAE):', medae)\n",
    "print('Mean Absolute Percentage Error (MAPE):', mape)\n"
   ]
  },
  {
   "cell_type": "code",
   "execution_count": 48,
   "id": "53abe9a6-d9e1-47e6-a3fa-6cb34d3f82a5",
   "metadata": {},
   "outputs": [
    {
     "name": "stdout",
     "output_type": "stream",
     "text": [
      "\n",
      "Metrics for Hybrid Model (Random Forest + XGBoost):\n",
      "Mean Absolute Error (MAE): 16.66061131088283\n",
      "Mean Squared Error (MSE): 1122.678724470271\n",
      "R-squared (R2) Score: 0.5861791126643032\n",
      "Median Absolute Error (MedAE): 4.327319156360119\n",
      "Mean Absolute Percentage Error (MAPE): 0.4362455524761472\n"
     ]
    }
   ],
   "source": [
    "#using randomforest + xbgregressor\n",
    "import pandas as pd\n",
    "from sklearn.ensemble import RandomForestRegressor, VotingRegressor\n",
    "from xgboost import XGBRegressor  \n",
    "\n",
    "from sklearn.compose import ColumnTransformer\n",
    "from sklearn.preprocessing import OneHotEncoder\n",
    "from sklearn.pipeline import Pipeline\n",
    "from sklearn.metrics import mean_absolute_error, mean_squared_error, r2_score, median_absolute_error, mean_absolute_percentage_error\n",
    "# Define the pipeline with RandomForestRegressor and AdaBoostRegressor\n",
    "pipeline = Pipeline(steps=[\n",
    "    ('preprocessor', preprocessor),\n",
    "    ('regressor', VotingRegressor([\n",
    "        ('rf', RandomForestRegressor()),\n",
    "        ('xgb', XGBRegressor())\n",
    "    ]))\n",
    "])\n",
    "\n",
    "# Fit the model\n",
    "pipeline.fit(X_train, y_train)\n",
    "\n",
    "# Predict sourcing cost for June 21 using the hybrid model\n",
    "june_21_prediction_hybrid = pipeline.predict(X_test)\n",
    "\n",
    "# Calculate performance metrics for the hybrid model\n",
    "mae_hybrid = mean_absolute_error(testing_data['Sourcing Cost'], june_21_prediction_hybrid)\n",
    "mse_hybrid = mean_squared_error(testing_data['Sourcing Cost'], june_21_prediction_hybrid)\n",
    "r2_hybrid = r2_score(testing_data['Sourcing Cost'], june_21_prediction_hybrid)\n",
    "medae_hybrid = median_absolute_error(testing_data['Sourcing Cost'], june_21_prediction_hybrid)\n",
    "mape_hybrid = mean_absolute_percentage_error(testing_data['Sourcing Cost'], june_21_prediction_hybrid)\n",
    "\n",
    "print('\\nMetrics for Hybrid Model (Random Forest + XGBoost):')\n",
    "print('Mean Absolute Error (MAE):', mae_hybrid)\n",
    "print('Mean Squared Error (MSE):', mse_hybrid)\n",
    "print('R-squared (R2) Score:', r2_hybrid)\n",
    "print('Median Absolute Error (MedAE):', medae_hybrid)\n",
    "print('Mean Absolute Percentage Error (MAPE):', mape_hybrid)\n"
   ]
  },
  {
   "cell_type": "code",
   "execution_count": 99,
   "id": "3acfd32a-ed6e-44a3-b5ef-40b1420ec429",
   "metadata": {},
   "outputs": [
    {
     "name": "stdout",
     "output_type": "stream",
     "text": [
      "Performance metrices for XGbRegressor: \n",
      "\n",
      "Mean Absolute Error (MAE): 16.37233628074328\n",
      "Mean Squared Error (MSE): 1079.6444785491233\n",
      "R-squared (R2) Score: 0.6020415935724674\n",
      "Median Absolute Error (MedAE): 4.116790771484375\n",
      "Mean Absolute Percentage Error (MAPE): 0.42474132179943863\n"
     ]
    }
   ],
   "source": [
    "#using gradient boosting : XGBRegressor \n",
    "import pandas as pd\n",
    "from sklearn.compose import ColumnTransformer\n",
    "from sklearn.preprocessing import OneHotEncoder\n",
    "from sklearn.pipeline import Pipeline\n",
    "import joblib  # Import joblib module\n",
    "from sklearn.metrics import mean_absolute_error, mean_squared_error, r2_score, median_absolute_error, mean_absolute_percentage_error\n",
    "from xgboost import XGBRegressor  \n",
    "# Define the pipeline with XGBoost regressor\n",
    "pipeline = Pipeline(steps=[\n",
    "    ('preprocessor', preprocessor),\n",
    "    ('regressor', XGBRegressor(eta=0.1999,gamma=53,max_depth=6, min_child_weight=1,  reg_alpha=0, n_estimators=1000, \n",
    "                              learning_rate=0.1\n",
    "                               ))  \n",
    "])\n",
    "# Fit the model\n",
    "pipeline.fit(X_train, y_train)\n",
    "# Save the trained model to a file\n",
    "joblib.dump(pipeline, 'trained_model_xgboost.pkl')\n",
    "# Load the saved model\n",
    "pipeline = joblib.load('trained_model_xgboost.pkl')\n",
    "# Generate predictions for the testing data\n",
    "june_21_prediction = pipeline.predict(X_test)\n",
    "# Calculate performance metrics\n",
    "mae = mean_absolute_error(testing_data['Sourcing Cost'], june_21_prediction)\n",
    "mse = mean_squared_error(testing_data['Sourcing Cost'], june_21_prediction)\n",
    "r2 = r2_score(testing_data['Sourcing Cost'], june_21_prediction)\n",
    "medae = median_absolute_error(testing_data['Sourcing Cost'], june_21_prediction)\n",
    "mape = mean_absolute_percentage_error(testing_data['Sourcing Cost'], june_21_prediction)\n",
    "print(\"Performance metrices for XGbRegressor: \\n\")\n",
    "print('Mean Absolute Error (MAE):', mae)\n",
    "print('Mean Squared Error (MSE):', mse)\n",
    "print('R-squared (R2) Score:', r2)\n",
    "print('Median Absolute Error (MedAE):', medae)\n",
    "print('Mean Absolute Percentage Error (MAPE):', mape)\n",
    "#colab : 18 "
   ]
  },
  {
   "cell_type": "code",
   "execution_count": null,
   "id": "0a2f8b8d-1175-4763-b212-ef0dc8dcd6fe",
   "metadata": {},
   "outputs": [],
   "source": [
    "from sklearn.model_selection import RandomizedSearchCV\n",
    "from scipy.stats import randint\n",
    "\n",
    "# Define the parameter distributions for randomized search\n",
    "param_dist = {\n",
    "    'regressor__n_estimators': randint(100, 1000),\n",
    "    'regressor__max_depth': [None, 10, 20, 30],\n",
    "    'regressor__min_samples_split': randint(2, 20),\n",
    "    'regressor__min_samples_leaf': randint(1, 20)\n",
    "}\n",
    "\n",
    "# Define the pipeline with Random Forest regressor\n",
    "pipeline_rf = Pipeline(steps=[\n",
    "    ('preprocessor', preprocessor),\n",
    "    ('regressor', RandomForestRegressor())\n",
    "])\n",
    "\n",
    "# Perform randomized search with cross-validation\n",
    "random_search_rf = RandomizedSearchCV(pipeline_rf, param_distributions=param_dist, n_iter=100, cv=5, scoring='neg_mean_absolute_error', n_jobs=-1, random_state=42)\n",
    "random_search_rf.fit(X_train, y_train)\n",
    "\n",
    "# Get the best model from random search\n",
    "best_rf_model = random_search_rf.best_estimator_\n",
    "\n",
    "# Predict sourcing cost for June 21 using the best model\n",
    "june_21_prediction_rf_best = best_rf_model.predict(X_test)\n",
    "\n",
    "# Calculate performance metrics for the best Random Forest model\n",
    "mae_rf_best = mean_absolute_error(testing_data['Sourcing Cost'], june_21_prediction_rf_best)\n",
    "mse_rf_best = mean_squared_error(testing_data['Sourcing Cost'], june_21_prediction_rf_best)\n",
    "r2_rf_best = r2_score(testing_data['Sourcing Cost'], june_21_prediction_rf_best)\n",
    "medae_rf_best = median_absolute_error(testing_data['Sourcing Cost'], june_21_prediction_rf_best)\n",
    "mape_rf_best = mean_absolute_percentage_error(testing_data['Sourcing Cost'], june_21_prediction_rf_best)\n",
    "\n",
    "print('\\nMetrics for Best Random Forest Model:')\n",
    "print('Mean Absolute Error (MAE):', mae_rf_best)\n",
    "print('Mean Squared Error (MSE):', mse_rf_best)\n",
    "print('R-squared (R2) Score:', r2_rf_best)\n",
    "print('Median Absolute Error (MedAE):', medae_rf_best)\n",
    "print('Mean Absolute Percentage Error (MAPE):', mape_rf_best)\n"
   ]
  },
  {
   "cell_type": "code",
   "execution_count": null,
   "id": "788732f4-3689-41fa-9a80-f9bec79f252c",
   "metadata": {},
   "outputs": [],
   "source": [
    "#using only random forest with different hyperparameters \n",
    "import pandas as pd\n",
    "from sklearn.ensemble import RandomForestRegressor\n",
    "from sklearn.compose import ColumnTransformer\n",
    "from sklearn.preprocessing import OneHotEncoder\n",
    "from sklearn.pipeline import Pipeline\n",
    "from sklearn.metrics import mean_absolute_error, mean_squared_error, r2_score, median_absolute_error, mean_absolute_percentage_error\n",
    "categorical_features = X_train.columns\n",
    "preprocessor = ColumnTransformer(\n",
    "    transformers=[\n",
    "        ('cat', OneHotEncoder(handle_unknown='ignore'), categorical_features)\n",
    "    ])\n",
    "# Define the pipeline with Random Forest regressor\n",
    "pipeline_rf = Pipeline(steps=[\n",
    "    ('preprocessor', preprocessor),\n",
    "    ('regressor', RandomForestRegressor(n_estimators=500,random_state=42))\n",
    "])\n",
    "\n",
    "# Fit the Random Forest model\n",
    "pipeline_rf.fit(X_train, y_train)\n",
    "\n",
    "# Predict sourcing cost for June 21 using Random Forest\n",
    "june_21_prediction_rf = pipeline_rf.predict(X_test)\n",
    "\n",
    "# Calculate performance metrics for Random Forest\n",
    "mae_rf = mean_absolute_error(testing_data['Sourcing Cost'], june_21_prediction_rf)\n",
    "mse_rf = mean_squared_error(testing_data['Sourcing Cost'], june_21_prediction_rf)\n",
    "r2_rf = r2_score(testing_data['Sourcing Cost'], june_21_prediction_rf)\n",
    "medae_rf = median_absolute_error(testing_data['Sourcing Cost'], june_21_prediction_rf)\n",
    "mape_rf = mean_absolute_percentage_error(testing_data['Sourcing Cost'], june_21_prediction_rf)\n",
    "\n",
    "print('\\nMetrics for Random Forest only (1):')\n",
    "print('Mean Absolute Error (MAE):', mae_rf)\n",
    "print('Mean Squared Error (MSE):', mse_rf)\n",
    "print('R-squared (R2) Score:', r2_rf)\n",
    "print('Median Absolute Error (MedAE):', medae_rf)\n",
    "print('Mean Absolute Percentage Error (MAPE):', mape_rf)\n",
    "\n",
    "# Metrics for Random Forest:\n",
    "#colab\n",
    "# Mean Absolute Error (MAE): 17.607191292869874\n",
    "# Mean Squared Error (MSE): 1263.575317208221\n",
    "# R-squared (R2) Score: 0.5342444391387975\n",
    "# Median Absolute Error (MedAE): 5.130831725933575\n",
    "# Mean Absolute Percentage Error (MAPE): 0.44279319682179114\n"
   ]
  },
  {
   "cell_type": "markdown",
   "id": "1f64173c-839a-4dbc-89b6-43a29253ccda",
   "metadata": {},
   "source": [
    "# Methods Used to Handle Outliers in the Dataset:\n",
    "\n",
    "### 1. Z-score:\n",
    "   - The Z-score method involves calculating the standard score of each data point in the dataset. Data points with a Z-score greater than a certain threshold (usually 3 or -3) are considered outliers and can be removed or adjusted.\n",
    "\n",
    "### 2. Percentile:\n",
    "   - The percentile method involves identifying outliers based on their position in the data's distribution. Data points falling below a certain percentile (e.g., 1st or 5th percentile) or above a certain percentile (e.g., 99th or 95th percentile) are considered outliers and can be treated accordingly.\n"
   ]
  },
  {
   "cell_type": "markdown",
   "id": "e241465e-329d-4f2c-ac76-6816da9e68ab",
   "metadata": {},
   "source": [
    "# Set of algorithms used and their comparison: Total Count 9\n",
    "\n",
    "## Simple Models:\n",
    "\n",
    "### 1. Linear Regression \n",
    "- **Explanation**: \n",
    "- **Performance Metrics**: \n",
    "  - Mean Absolute Error (MAE): 23.448904717250116\n",
    "  - Mean Squared Error (MSE): 1416.3732046615976\n",
    "  - R-squared (R2) Score: 0.4779229323793178\n",
    "  - Median Absolute Error (MedAE): 12.49195293452599\n",
    "  - Mean Absolute Percentage Error (MAPE): 0.5117386585097528\n",
    "\n",
    "### 2. Random Forest \n",
    "- **Explanation**: \n",
    "- **Performance Metrics**: \n",
    "  - Mean Absolute Error (MAE): 17.135749089639173\n",
    "  - Mean Squared Error (MSE): 1163.2062644303473\n",
    "  - R-squared (R2) Score: 0.5712406069437774\n",
    "  - Median Absolute Error (MedAE): 4.9262105304598\n",
    "  - Mean Absolute Percentage Error (MAPE): 0.4478759750922607\n",
    "\n",
    "### 3. Ada Boost \n",
    "- **Explanation**: \n",
    "- **Performance Metrics**: \n",
    "  - Mean Absolute Error (MAE): 27.87070477368057\n",
    "  - Mean Squared Error (MSE): 1311.9597865409842\n",
    "  - R-squared (R2) Score: 0.5164098586874769\n",
    "  - Median Absolute Error (MedAE): 23.391454331727974\n",
    "  - Mean Absolute Percentage Error (MAPE): 0.6026857960040489\n",
    "\n",
    "### 4. XG Boost \n",
    "- **Explanation**: \n",
    "- **Performance Metrics**: \n",
    "  - Mean Absolute Error (MAE): 16.37233628074328\n",
    "  - Mean Squared Error (MSE): 1079.6444785491233\n",
    "  - R-squared (R2) Score: 0.6020415935724674\n",
    "  - Median Absolute Error (MedAE): 4.116790771484375\n",
    "  - Mean Absolute Percentage Error (MAPE): 0.42474132179943863\n",
    "\n",
    "## Hybrid Models:\n",
    "\n",
    "### 1. Linear Regression + Random Forest \n",
    "- **Performance Metrics**: \n",
    "  - Mean Absolute Error (MAE): 17.55381900251734\n",
    "  - Mean Squared Error (MSE): 1154.755721286884\n",
    "  - R-squared (R2) Score: 0.5743554885086228\n",
    "  - Median Absolute Error (MedAE): 5.290527233016618\n",
    "  - Mean Absolute Percentage Error (MAPE): 0.4532354016459956\n",
    "\n",
    "### 2. Random Forest + Ada Boost \n",
    "- **Performance Metrics**: \n",
    "  - Mean Absolute Error (MAE): 20.597544943349465\n",
    "  - Mean Squared Error (MSE): 936.40441870634\n",
    "  - R-squared (R2) Score: 0.6548400722237199\n",
    "  - Median Absolute Error (MedAE): 14.947244360558715\n",
    "  - Mean Absolute Percentage Error (MAPE): 0.5005150748848611\n",
    "\n",
    "### 3. Linear Regression + XGBoost \n",
    "- **Performance Metrics**: \n",
    "  - Mean Absolute Error (MAE): 19.00341150325706\n",
    "  - Mean Squared Error (MSE): 1163.798652160669\n",
    "  - R-squared (R2) Score: 0.5710222520298869\n",
    "  - Median Absolute Error (MedAE): 7.8195648380226075\n",
    "  - Mean Absolute Percentage Error (MAPE): 0.46305845699469267\n",
    "\n",
    "### 4. Linear Regression + XGBoost + Ada Boost \n",
    "- **Performance Metrics**: \n",
    "  - Mean Absolute Error (MAE): 20.98947836346399\n",
    "  - Mean Squared Error (MSE): 1024.5257599971094\n",
    "  - R-squared (R2) Score: 0.6223584273405282\n",
    "  - Median Absolute Error (MedAE): 13.977447756682615\n",
    "  - Mean Absolute Percentage Error (MAPE): 0.49898141294993686\n",
    "\n",
    "### 5. Random Forest + XGBoost \n",
    "- **Performance Metrics**: \n",
    "  - Mean Absolute Error (MAE): 16.66061131088283\n",
    "  - Mean Squared Error (MSE): 1122.678724470271\n",
    "  - R-squared (R2) Score: 0.5861791126643032\n",
    "  - Median Absolute Error (MedAE): 4.327319156360119\n",
    "  - Mean Absolute Percentage Error (MAPE): 0.4362455524761472\n",
    "\n",
    "## Final Approach:\n",
    "XGBoost is the final algorithm for the dataset because it proved to be the most effective algorithm with a mean absolute error of 16.3.\n"
   ]
  },
  {
   "cell_type": "code",
   "execution_count": null,
   "id": "21298215-e323-4cfd-89fb-aed8f2ce6301",
   "metadata": {},
   "outputs": [],
   "source": []
  }
 ],
 "metadata": {
  "kernelspec": {
   "display_name": "Python 3 (ipykernel)",
   "language": "python",
   "name": "python3"
  },
  "language_info": {
   "codemirror_mode": {
    "name": "ipython",
    "version": 3
   },
   "file_extension": ".py",
   "mimetype": "text/x-python",
   "name": "python",
   "nbconvert_exporter": "python",
   "pygments_lexer": "ipython3",
   "version": "3.12.2"
  }
 },
 "nbformat": 4,
 "nbformat_minor": 5
}
